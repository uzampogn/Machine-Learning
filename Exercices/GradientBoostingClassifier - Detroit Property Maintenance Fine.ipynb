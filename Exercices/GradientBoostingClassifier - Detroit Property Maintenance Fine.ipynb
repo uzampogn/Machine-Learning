{
 "cells": [
  {
   "cell_type": "markdown",
   "metadata": {},
   "source": [
    "## Understanding and Predicting Property Maintenance Fines\n",
    "\n",
    "This is a data challenge from the Michigan Data Science Team ([MDST](http://midas.umich.edu/mdst/)). \n",
    "\n",
    "The Michigan Data Science Team ([MDST](http://midas.umich.edu/mdst/)) and the Michigan Student Symposium for Interdisciplinary Statistical Sciences ([MSSISS](https://sites.lsa.umich.edu/mssiss/)) have partnered with the City of Detroit to help solve one of the most pressing problems facing Detroit - blight. [Blight violations](http://www.detroitmi.gov/How-Do-I/Report/Blight-Complaint-FAQs) are issued by the city to individuals who allow their properties to remain in a deteriorated condition. Every year, the city of Detroit issues millions of dollars in fines to residents and every year, many of these fines remain unpaid. Enforcing unpaid blight fines is a costly and tedious process, so the city wants to know: how can we increase blight ticket compliance?\n",
    "\n",
    "The first step in answering this question is understanding when and why a resident might fail to comply with a blight ticket. This is where predictive modeling comes in. For this assignment, your task is to predict whether a given blight ticket will be paid on time.\n",
    "\n",
    "All data for this assignment has been provided to us through the [Detroit Open Data Portal](https://data.detroitmi.gov/).\n",
    "\n",
    "**Data fields**\n",
    "\n",
    "train.csv & test.csv\n",
    "\n",
    "    ticket_id - unique identifier for tickets\n",
    "    agency_name - Agency that issued the ticket\n",
    "    inspector_name - Name of inspector that issued the ticket\n",
    "    violator_name - Name of the person/organization that the ticket was issued to\n",
    "    violation_street_number, violation_street_name, violation_zip_code - Address where the violation occurred\n",
    "    mailing_address_str_number, mailing_address_str_name, city, state, zip_code, non_us_str_code, country - Mailing address of the violator\n",
    "    ticket_issued_date - Date and time the ticket was issued\n",
    "    hearing_date - Date and time the violator's hearing was scheduled\n",
    "    violation_code, violation_description - Type of violation\n",
    "    disposition - Judgment and judgement type\n",
    "    fine_amount - Violation fine amount, excluding fees\n",
    "    admin_fee - $20 fee assigned to responsible judgments\n",
    "state_fee - $10 fee assigned to responsible judgments\n",
    "    late_fee - 10% fee assigned to responsible judgments\n",
    "    discount_amount - discount applied, if any\n",
    "    clean_up_cost - DPW clean-up or graffiti removal cost\n",
    "    judgment_amount - Sum of all fines and fees\n",
    "    grafitti_status - Flag for graffiti violations\n",
    "    \n",
    "train.csv only\n",
    "\n",
    "    payment_amount - Amount paid, if any\n",
    "    payment_date - Date payment was made, if it was received\n",
    "    payment_status - Current payment status as of Feb 1 2017\n",
    "    balance_due - Fines and fees still owed\n",
    "    collection_status - Flag for payments in collections\n",
    "    compliance [target variable for prediction] \n",
    "     Null = Not responsible\n",
    "     0 = Responsible, non-compliant\n",
    "     1 = Responsible, compliant\n",
    "    compliance_detail - More information on why each ticket was marked compliant or non-compliant"
   ]
  },
  {
   "cell_type": "code",
   "execution_count": 291,
   "metadata": {
    "collapsed": true
   },
   "outputs": [],
   "source": [
    "import pandas as pd\n",
    "import numpy as np\n",
    "import matplotlib.pyplot as plt\n",
    "import seaborn as sns\n",
    "\n",
    "sns.set()\n",
    "%matplotlib inline"
   ]
  },
  {
   "cell_type": "markdown",
   "metadata": {},
   "source": [
    "### Files Import & Primary exploration"
   ]
  },
  {
   "cell_type": "code",
   "execution_count": 292,
   "metadata": {},
   "outputs": [
    {
     "name": "stdout",
     "output_type": "stream",
     "text": [
      "{'encoding': 'ascii', 'confidence': 1.0, 'language': ''}\n"
     ]
    }
   ],
   "source": [
    "#Detect encoding of csv file\n",
    "import chardet\n",
    "# look at the first ten thousand bytes to guess the character encoding\n",
    "with open('readonly/train.csv', 'rb') as rawdata:\n",
    "    result = chardet.detect(rawdata.read(10000))\n",
    "# check what the character encoding might be\n",
    "print(result)"
   ]
  },
  {
   "cell_type": "code",
   "execution_count": 293,
   "metadata": {},
   "outputs": [],
   "source": [
    "df = pd.read_csv('readonly/train.csv',engine='python')\n",
    "# Remove \"not responsible\" compliance target\n",
    "df = df[df['compliance'].isnull()==False]"
   ]
  },
  {
   "cell_type": "code",
   "execution_count": 294,
   "metadata": {},
   "outputs": [
    {
     "data": {
      "text/plain": [
       "(159880, 34)"
      ]
     },
     "execution_count": 294,
     "metadata": {},
     "output_type": "execute_result"
    }
   ],
   "source": [
    "df.shape"
   ]
  },
  {
   "cell_type": "code",
   "execution_count": null,
   "metadata": {},
   "outputs": [],
   "source": [
    "#Set ticket_id as index\n",
    "df.set_index('ticket_id',drop=True,inplace=True)"
   ]
  },
  {
   "cell_type": "code",
   "execution_count": 296,
   "metadata": {
    "scrolled": false
   },
   "outputs": [
    {
     "name": "stdout",
     "output_type": "stream",
     "text": [
      "<class 'pandas.core.frame.DataFrame'>\n",
      "Int64Index: 159880 entries, 22056 to 284333\n",
      "Data columns (total 33 columns):\n",
      "agency_name                   159880 non-null object\n",
      "inspector_name                159880 non-null object\n",
      "violator_name                 159854 non-null object\n",
      "violation_street_number       159880 non-null float64\n",
      "violation_street_name         159880 non-null object\n",
      "violation_zip_code            0 non-null float64\n",
      "mailing_address_str_number    157322 non-null float64\n",
      "mailing_address_str_name      159877 non-null object\n",
      "city                          159880 non-null object\n",
      "state                         159796 non-null object\n",
      "zip_code                      159879 non-null object\n",
      "non_us_str_code               3 non-null object\n",
      "country                       159880 non-null object\n",
      "ticket_issued_date            159880 non-null object\n",
      "hearing_date                  159653 non-null object\n",
      "violation_code                159880 non-null object\n",
      "violation_description         159880 non-null object\n",
      "disposition                   159880 non-null object\n",
      "fine_amount                   159880 non-null float64\n",
      "admin_fee                     159880 non-null float64\n",
      "state_fee                     159880 non-null float64\n",
      "late_fee                      159880 non-null float64\n",
      "discount_amount               159880 non-null float64\n",
      "clean_up_cost                 159880 non-null float64\n",
      "judgment_amount               159880 non-null float64\n",
      "payment_amount                159880 non-null float64\n",
      "balance_due                   159880 non-null float64\n",
      "payment_date                  39611 non-null object\n",
      "payment_status                159880 non-null object\n",
      "collection_status             36897 non-null object\n",
      "grafitti_status               0 non-null object\n",
      "compliance_detail             159880 non-null object\n",
      "compliance                    159880 non-null float64\n",
      "dtypes: float64(13), object(20)\n",
      "memory usage: 41.5+ MB\n"
     ]
    }
   ],
   "source": [
    "df.info()"
   ]
  },
  {
   "cell_type": "code",
   "execution_count": 297,
   "metadata": {},
   "outputs": [
    {
     "data": {
      "text/html": [
       "<div>\n",
       "<table border=\"1\" class=\"dataframe\">\n",
       "  <thead>\n",
       "    <tr style=\"text-align: right;\">\n",
       "      <th></th>\n",
       "      <th>violation_street_number</th>\n",
       "      <th>violation_zip_code</th>\n",
       "      <th>mailing_address_str_number</th>\n",
       "      <th>fine_amount</th>\n",
       "      <th>admin_fee</th>\n",
       "      <th>state_fee</th>\n",
       "      <th>late_fee</th>\n",
       "      <th>discount_amount</th>\n",
       "      <th>clean_up_cost</th>\n",
       "      <th>judgment_amount</th>\n",
       "      <th>payment_amount</th>\n",
       "      <th>balance_due</th>\n",
       "      <th>compliance</th>\n",
       "    </tr>\n",
       "  </thead>\n",
       "  <tbody>\n",
       "    <tr>\n",
       "      <th>count</th>\n",
       "      <td>1.598800e+05</td>\n",
       "      <td>0.0</td>\n",
       "      <td>1.573220e+05</td>\n",
       "      <td>159880.000000</td>\n",
       "      <td>159880.0</td>\n",
       "      <td>159880.0</td>\n",
       "      <td>159880.000000</td>\n",
       "      <td>159880.000000</td>\n",
       "      <td>159880.0</td>\n",
       "      <td>159880.000000</td>\n",
       "      <td>159880.000000</td>\n",
       "      <td>159880.000000</td>\n",
       "      <td>159880.000000</td>\n",
       "    </tr>\n",
       "    <tr>\n",
       "      <th>mean</th>\n",
       "      <td>1.071316e+04</td>\n",
       "      <td>NaN</td>\n",
       "      <td>9.133714e+03</td>\n",
       "      <td>357.035295</td>\n",
       "      <td>20.0</td>\n",
       "      <td>10.0</td>\n",
       "      <td>33.651512</td>\n",
       "      <td>0.195959</td>\n",
       "      <td>0.0</td>\n",
       "      <td>420.650218</td>\n",
       "      <td>72.206537</td>\n",
       "      <td>348.263284</td>\n",
       "      <td>0.072536</td>\n",
       "    </tr>\n",
       "    <tr>\n",
       "      <th>std</th>\n",
       "      <td>3.623159e+04</td>\n",
       "      <td>NaN</td>\n",
       "      <td>3.657729e+04</td>\n",
       "      <td>675.655580</td>\n",
       "      <td>0.0</td>\n",
       "      <td>0.0</td>\n",
       "      <td>67.692916</td>\n",
       "      <td>4.290344</td>\n",
       "      <td>0.0</td>\n",
       "      <td>742.555062</td>\n",
       "      <td>259.849545</td>\n",
       "      <td>729.295700</td>\n",
       "      <td>0.259374</td>\n",
       "    </tr>\n",
       "    <tr>\n",
       "      <th>min</th>\n",
       "      <td>0.000000e+00</td>\n",
       "      <td>NaN</td>\n",
       "      <td>1.000000e+00</td>\n",
       "      <td>0.000000</td>\n",
       "      <td>20.0</td>\n",
       "      <td>10.0</td>\n",
       "      <td>0.000000</td>\n",
       "      <td>0.000000</td>\n",
       "      <td>0.0</td>\n",
       "      <td>0.000000</td>\n",
       "      <td>0.000000</td>\n",
       "      <td>-7750.000000</td>\n",
       "      <td>0.000000</td>\n",
       "    </tr>\n",
       "    <tr>\n",
       "      <th>25%</th>\n",
       "      <td>4.920000e+03</td>\n",
       "      <td>NaN</td>\n",
       "      <td>5.320000e+02</td>\n",
       "      <td>200.000000</td>\n",
       "      <td>20.0</td>\n",
       "      <td>10.0</td>\n",
       "      <td>10.000000</td>\n",
       "      <td>0.000000</td>\n",
       "      <td>0.0</td>\n",
       "      <td>250.000000</td>\n",
       "      <td>0.000000</td>\n",
       "      <td>85.000000</td>\n",
       "      <td>0.000000</td>\n",
       "    </tr>\n",
       "    <tr>\n",
       "      <th>50%</th>\n",
       "      <td>1.039800e+04</td>\n",
       "      <td>NaN</td>\n",
       "      <td>2.418000e+03</td>\n",
       "      <td>250.000000</td>\n",
       "      <td>20.0</td>\n",
       "      <td>10.0</td>\n",
       "      <td>25.000000</td>\n",
       "      <td>0.000000</td>\n",
       "      <td>0.0</td>\n",
       "      <td>305.000000</td>\n",
       "      <td>0.000000</td>\n",
       "      <td>305.000000</td>\n",
       "      <td>0.000000</td>\n",
       "    </tr>\n",
       "    <tr>\n",
       "      <th>75%</th>\n",
       "      <td>1.578325e+04</td>\n",
       "      <td>NaN</td>\n",
       "      <td>1.284400e+04</td>\n",
       "      <td>250.000000</td>\n",
       "      <td>20.0</td>\n",
       "      <td>10.0</td>\n",
       "      <td>25.000000</td>\n",
       "      <td>0.000000</td>\n",
       "      <td>0.0</td>\n",
       "      <td>305.000000</td>\n",
       "      <td>0.000000</td>\n",
       "      <td>305.000000</td>\n",
       "      <td>0.000000</td>\n",
       "    </tr>\n",
       "    <tr>\n",
       "      <th>max</th>\n",
       "      <td>1.415411e+07</td>\n",
       "      <td>NaN</td>\n",
       "      <td>5.111345e+06</td>\n",
       "      <td>10000.000000</td>\n",
       "      <td>20.0</td>\n",
       "      <td>10.0</td>\n",
       "      <td>1000.000000</td>\n",
       "      <td>350.000000</td>\n",
       "      <td>0.0</td>\n",
       "      <td>11030.000000</td>\n",
       "      <td>11030.000000</td>\n",
       "      <td>11030.000000</td>\n",
       "      <td>1.000000</td>\n",
       "    </tr>\n",
       "  </tbody>\n",
       "</table>\n",
       "</div>"
      ],
      "text/plain": [
       "       violation_street_number  violation_zip_code  \\\n",
       "count             1.598800e+05                 0.0   \n",
       "mean              1.071316e+04                 NaN   \n",
       "std               3.623159e+04                 NaN   \n",
       "min               0.000000e+00                 NaN   \n",
       "25%               4.920000e+03                 NaN   \n",
       "50%               1.039800e+04                 NaN   \n",
       "75%               1.578325e+04                 NaN   \n",
       "max               1.415411e+07                 NaN   \n",
       "\n",
       "       mailing_address_str_number    fine_amount  admin_fee  state_fee  \\\n",
       "count                1.573220e+05  159880.000000   159880.0   159880.0   \n",
       "mean                 9.133714e+03     357.035295       20.0       10.0   \n",
       "std                  3.657729e+04     675.655580        0.0        0.0   \n",
       "min                  1.000000e+00       0.000000       20.0       10.0   \n",
       "25%                  5.320000e+02     200.000000       20.0       10.0   \n",
       "50%                  2.418000e+03     250.000000       20.0       10.0   \n",
       "75%                  1.284400e+04     250.000000       20.0       10.0   \n",
       "max                  5.111345e+06   10000.000000       20.0       10.0   \n",
       "\n",
       "            late_fee  discount_amount  clean_up_cost  judgment_amount  \\\n",
       "count  159880.000000    159880.000000       159880.0    159880.000000   \n",
       "mean       33.651512         0.195959            0.0       420.650218   \n",
       "std        67.692916         4.290344            0.0       742.555062   \n",
       "min         0.000000         0.000000            0.0         0.000000   \n",
       "25%        10.000000         0.000000            0.0       250.000000   \n",
       "50%        25.000000         0.000000            0.0       305.000000   \n",
       "75%        25.000000         0.000000            0.0       305.000000   \n",
       "max      1000.000000       350.000000            0.0     11030.000000   \n",
       "\n",
       "       payment_amount    balance_due     compliance  \n",
       "count   159880.000000  159880.000000  159880.000000  \n",
       "mean        72.206537     348.263284       0.072536  \n",
       "std        259.849545     729.295700       0.259374  \n",
       "min          0.000000   -7750.000000       0.000000  \n",
       "25%          0.000000      85.000000       0.000000  \n",
       "50%          0.000000     305.000000       0.000000  \n",
       "75%          0.000000     305.000000       0.000000  \n",
       "max      11030.000000   11030.000000       1.000000  "
      ]
     },
     "execution_count": 297,
     "metadata": {},
     "output_type": "execute_result"
    }
   ],
   "source": [
    "df.describe()"
   ]
  },
  {
   "cell_type": "markdown",
   "metadata": {},
   "source": [
    "### Data Exploration: Null Variables"
   ]
  },
  {
   "cell_type": "code",
   "execution_count": 298,
   "metadata": {
    "scrolled": false
   },
   "outputs": [
    {
     "data": {
      "text/plain": [
       "agency_name                        0\n",
       "inspector_name                     0\n",
       "violator_name                     26\n",
       "violation_street_number            0\n",
       "violation_street_name              0\n",
       "violation_zip_code            159880\n",
       "mailing_address_str_number      2558\n",
       "mailing_address_str_name           3\n",
       "city                               0\n",
       "state                             84\n",
       "zip_code                           1\n",
       "non_us_str_code               159877\n",
       "country                            0\n",
       "ticket_issued_date                 0\n",
       "hearing_date                     227\n",
       "violation_code                     0\n",
       "violation_description              0\n",
       "disposition                        0\n",
       "fine_amount                        0\n",
       "admin_fee                          0\n",
       "state_fee                          0\n",
       "late_fee                           0\n",
       "discount_amount                    0\n",
       "clean_up_cost                      0\n",
       "judgment_amount                    0\n",
       "payment_amount                     0\n",
       "balance_due                        0\n",
       "payment_date                  120269\n",
       "payment_status                     0\n",
       "collection_status             122983\n",
       "grafitti_status               159880\n",
       "compliance_detail                  0\n",
       "compliance                         0\n",
       "dtype: int64"
      ]
     },
     "execution_count": 298,
     "metadata": {},
     "output_type": "execute_result"
    }
   ],
   "source": [
    "#Find columns with null/missing data\n",
    "df.isnull().sum(axis=0)"
   ]
  },
  {
   "cell_type": "code",
   "execution_count": 299,
   "metadata": {},
   "outputs": [],
   "source": [
    "# Exclude following columns due to large missing data or data leakage issue for data unvailable at the time of future training\n",
    "exclusion_list = ['non_us_str_code'\n",
    "                  ,'violation_zip_code'\n",
    "                  ,'payment_amount'\n",
    "                  ,'balance_due'\n",
    "                  ,'payment_date'\n",
    "                  ,'payment_status'\n",
    "                  ,'collection_status'\n",
    "                  ,'compliance_detail'\n",
    "                  ,'admin_fee'\n",
    "                  ,'state_fee'\n",
    "                  ,'late_fee'\n",
    "                  ,'discount_amount'\n",
    "                  ,'violation_street_number'\n",
    "                  ,'mailing_address_str_number'\n",
    "                  ,'judgment_amount'\n",
    "                  ,'violation_street_name'\n",
    "                  ,'clean_up_cost'\n",
    "                  ,'grafitti_status']\n",
    "df.drop(labels=exclusion_list,axis=1,inplace=True)"
   ]
  },
  {
   "cell_type": "markdown",
   "metadata": {},
   "source": [
    "### Data Exploration: Categorical Variables"
   ]
  },
  {
   "cell_type": "code",
   "execution_count": 300,
   "metadata": {
    "scrolled": false
   },
   "outputs": [
    {
     "name": "stdout",
     "output_type": "stream",
     "text": [
      "agency_name  :  5\n",
      "Buildings, Safety Engineering & Env Department\n",
      "Health Department\n",
      "Department of Public Works\n",
      "Detroit Police Department\n",
      "Neighborhood City Halls\n",
      "\n",
      "\n",
      "inspector_name  :  159\n",
      "\n",
      "\n",
      "violator_name  :  84657\n",
      "\n",
      "\n",
      "mailing_address_str_name  :  28441\n",
      "\n",
      "\n",
      "city  :  4093\n",
      "\n",
      "\n",
      "state  :  60\n",
      "\n",
      "\n",
      "zip_code  :  3499\n",
      "\n",
      "\n",
      "country  :  5\n",
      "USA\n",
      "Cana\n",
      "Aust\n",
      "Egyp\n",
      "Germ\n",
      "\n",
      "\n",
      "ticket_issued_date  :  68097\n",
      "\n",
      "\n",
      "hearing_date  :  5971\n",
      "\n",
      "\n",
      "violation_code  :  189\n",
      "\n",
      "\n",
      "violation_description  :  207\n",
      "\n",
      "\n",
      "disposition  :  4\n",
      "Responsible by Default\n",
      "Responsible by Determination\n",
      "Responsible by Admission\n",
      "Responsible (Fine Waived) by Deter\n",
      "\n",
      "\n"
     ]
    }
   ],
   "source": [
    "# Check cardinality of object features\n",
    "object_columns = df.select_dtypes(include=[object]).columns.values.tolist()\n",
    "\n",
    "for col in object_columns:\n",
    "    elements = df[col].unique().tolist()\n",
    "    print(col,' : ', len(elements))  \n",
    "    if len(elements) < 10:\n",
    "        print(*elements, sep='\\n')\n",
    "    print('\\n')"
   ]
  },
  {
   "cell_type": "code",
   "execution_count": 301,
   "metadata": {},
   "outputs": [],
   "source": [
    "# Exclude following object columns due to high cardinality or double information (state&zipcode)\n",
    "exclusion_list = ['inspector_name'\n",
    "                  ,'violator_name'\n",
    "                  ,'violation_description'\n",
    "                  ,'mailing_address_str_name'\n",
    "                  ,'city'\n",
    "                  ,'state']\n",
    "df.drop(labels=exclusion_list,axis=1,inplace=True)"
   ]
  },
  {
   "cell_type": "code",
   "execution_count": 302,
   "metadata": {
    "scrolled": true
   },
   "outputs": [
    {
     "name": "stdout",
     "output_type": "stream",
     "text": [
      "159880\n",
      "agency_name\n",
      "Buildings, Safety Engineering & Env Department    95863\n",
      "Department of Public Works                        52445\n",
      "Health Department                                  7107\n",
      "Detroit Police Department                          4464\n",
      "Neighborhood City Halls                               1\n",
      "dtype: int64 \n",
      "\n",
      "159880\n",
      "violation_code\n",
      "9-1-36(a)               64414\n",
      "9-1-81(a)               23145\n",
      "22-2-88                 19073\n",
      "9-1-104                 16927\n",
      "22-2-88(b)               4879\n",
      "22-2-45                  4200\n",
      "9-1-105                  3619\n",
      "9-1-110(a)               3147\n",
      "9-1-43(a) - (Dwellin     3043\n",
      "9-1-103(C)               2641\n",
      "22-2-22                  2612\n",
      "22-2-43                  2054\n",
      "19450901                 1620\n",
      "22-2-17                  1414\n",
      "22-2-61                   706\n",
      "22-2-83(a)(b)(c)          494\n",
      "9-1-82(d) - (Dwellin      457\n",
      "61-81.0100/32.0066        439\n",
      "9-1-43(a) - (Structu      399\n",
      "22-2-83                   347\n",
      "22-2-88(a)                235\n",
      "9-1-206                   235\n",
      "61-5-21                   202\n",
      "9-1-209                   200\n",
      "22-2-21(b)                185\n",
      "9-1-101                   150\n",
      "9-1-107                   133\n",
      "9-1-43(a) - (Stories      132\n",
      "9-1-111                   130\n",
      "9-1-201(a)                128\n",
      "                        ...  \n",
      "9-1-352                     1\n",
      "61-84.0100/45.0807          1\n",
      "9-1-310                     1\n",
      "19850901                    1\n",
      "61-86.0100/45.0807          1\n",
      "61-45.0000/45.0800          1\n",
      "61-81.0100/45.0807          1\n",
      "20160901                    1\n",
      "61-82.0100/32.0031          1\n",
      "61-83.0100/32.0066          1\n",
      "9-1-219                     1\n",
      "61-4-35                     1\n",
      "9-1-474                     1\n",
      "22-2-85                     1\n",
      "22-2-84 (DO NOT USE         1\n",
      "61-86.0100/32.0066          1\n",
      "9-1-434                     1\n",
      "9-1-443(b)                  1\n",
      "9-1-46(a)                   1\n",
      "9-1-462(a)                  1\n",
      "9-1-406                     1\n",
      "61-111.0100/32.0066         1\n",
      "61-114.0100                 1\n",
      "22-2-49(b)                  1\n",
      "61-118.0100/32.0066         1\n",
      "61-120.0100/32.0066         1\n",
      "61-130.0000/130.0500        1\n",
      "9-1-377                     1\n",
      "9-1-375                     1\n",
      "61-104.0100                 1\n",
      "dtype: int64 \n",
      "\n",
      "159880\n",
      "disposition\n",
      "Responsible by Default                138340\n",
      "Responsible by Admission               13701\n",
      "Responsible by Determination            7644\n",
      "Responsible (Fine Waived) by Deter       195\n",
      "dtype: int64 \n",
      "\n",
      "159879\n",
      "zip_code\n",
      "48227     7316\n",
      "48221     7213\n",
      "48235     6842\n",
      "48228     6026\n",
      "48219     5875\n",
      "48238     5435\n",
      "48224     5421\n",
      "48205     4764\n",
      "48204     4357\n",
      "48234     4057\n",
      "48213     3565\n",
      "48206     3473\n",
      "48223     3436\n",
      "48209     3294\n",
      "48075     3143\n",
      "48203     3132\n",
      "48210     3117\n",
      "48202     2600\n",
      "48207     2564\n",
      "48076     2510\n",
      "48037     2478\n",
      "48214     2342\n",
      "48034     2158\n",
      "48226     2119\n",
      "48212     2059\n",
      "48215     1834\n",
      "48237     1753\n",
      "48208     1702\n",
      "48126     1512\n",
      "48201     1219\n",
      "          ... \n",
      "75026        1\n",
      "484126       1\n",
      "482334       1\n",
      "36081        1\n",
      "48408        1\n",
      "36106        1\n",
      "35242        1\n",
      "8601         1\n",
      "88204        1\n",
      "482325       1\n",
      "88015        1\n",
      "87732        1\n",
      "34747        1\n",
      "34748        1\n",
      "48438        1\n",
      "48142        1\n",
      "48436        1\n",
      "34990        1\n",
      "48431        1\n",
      "87505        1\n",
      "35020        1\n",
      "35064        1\n",
      "87144        1\n",
      "70126        1\n",
      "87114        1\n",
      "7019         1\n",
      "86314        1\n",
      "7024         1\n",
      "3522         1\n",
      "38256        1\n",
      "dtype: int64 \n",
      "\n"
     ]
    }
   ],
   "source": [
    "# Frequency of unique categorical values\n",
    "for col in ['agency_name','violation_code','disposition','zip_code']:\n",
    "    temp = df.groupby(col).size().sort_values(ascending=False)\n",
    "    print(np.sum(temp))\n",
    "    print(temp,'\\n')"
   ]
  },
  {
   "cell_type": "markdown",
   "metadata": {},
   "source": [
    "### FEATURE EXTRACTION: Categorial variables\n",
    "\n",
    "- country: split by USA & others then hot encoder\n",
    "- date diff between ticket_issued and hearing_date then classify in 2 groups & hot encoder\n",
    "- violation_code: pick x first one, overwrite others withs others & hot encoder\n",
    "- extract weekday from ticket issued date & hot encoder\n",
    "- extract info from zipcode & hot encoder\n",
    "- hot encoder for agency_name & disposition"
   ]
  },
  {
   "cell_type": "code",
   "execution_count": 303,
   "metadata": {
    "collapsed": true
   },
   "outputs": [],
   "source": [
    "#Feature extraction: AGENCY\n",
    "df['agency_name'] = df['agency_name'].apply(lambda x: x if x in ['Buildings, Safety Engineering & Env Department','Department of Public Works'] else 'Others') "
   ]
  },
  {
   "cell_type": "code",
   "execution_count": 304,
   "metadata": {
    "collapsed": true
   },
   "outputs": [],
   "source": [
    "#Feature extraction: DISPOSITION\n",
    "df['disposition'] = df['disposition'].apply(lambda x: x if x in ['Responsible by Default','Responsible by Admission'] else 'Others') "
   ]
  },
  {
   "cell_type": "code",
   "execution_count": 305,
   "metadata": {},
   "outputs": [],
   "source": [
    "#Feature extraction: COUNTRY\n",
    "df['country'] = df['country'].apply(lambda x: x if x in ['USA'] else 'Others') "
   ]
  },
  {
   "cell_type": "code",
   "execution_count": 306,
   "metadata": {
    "collapsed": true
   },
   "outputs": [],
   "source": [
    "#Feature extraction: VIOLATION_CODE\n",
    "df['violation_code'] = df['violation_code'].apply(lambda x: x[:4] if x[:4] in ['9-1-','22-2'] else 'Others') "
   ]
  },
  {
   "cell_type": "code",
   "execution_count": 307,
   "metadata": {},
   "outputs": [],
   "source": [
    "#Feature extraction: ZIP_CODE\n",
    "df['zip_code'] = df['zip_code'].astype('str').apply(lambda x: x[:3] if x[:3] in ['480','481','482','483'] else 'Others') "
   ]
  },
  {
   "cell_type": "code",
   "execution_count": 308,
   "metadata": {},
   "outputs": [
    {
     "data": {
      "image/png": "[encoded data removed]",
      "text/plain": [
       "<matplotlib.figure.Figure at 0x7fd34eb91400>"
      ]
     },
     "metadata": {},
     "output_type": "display_data"
    }
   ],
   "source": [
    "#Feature extraction: Date diff grouping between ticket_issued and hearing_date\n",
    "\n",
    "from datetime import datetime\n",
    "#Convert datetime to date\n",
    "df['ticket_issued_date'] = pd.to_datetime(df['ticket_issued_date'], format='%Y-%m-%d')\n",
    "df['hearing_date'] = pd.to_datetime(df['hearing_date'], format='%Y-%m-%d')\n",
    "#Calculate Month_between\n",
    "df['Month_Between'] = df['hearing_date'].dt.to_period('M') - df['ticket_issued_date'].dt.to_period('M')\n",
    "df['Month_Between'] = df['Month_Between'].astype(int)\n",
    "#Visualize frequency of each class\n",
    "x = sorted(df.groupby('Month_Between').size().index)\n",
    "\n",
    "total = len(df['Month_Between'] )\n",
    "MB = pd.DataFrame(df.groupby('Month_Between').size())\n",
    "MB['%'] = (MB[0]/total)*100\n",
    "#MB['%']\n",
    "values = MB['%'].values\n",
    "\n",
    "plt.bar(x,values,color='gold',width=10)\n",
    "\n",
    "#Create grouping based on frequency\n",
    "def month_grouping(row):\n",
    "    if row >= 0 and row <= 1:\n",
    "        return 1\n",
    "    elif row >= 2 and row <= 3:\n",
    "        return 2\n",
    "    elif row > 3:\n",
    "        return 3\n",
    "    else:\n",
    "        return 0\n",
    "df['Month_Between_Grouping'] = df['Month_Between'].apply(lambda x: month_grouping(x))\n",
    "df.drop(labels=['Month_Between','hearing_date'],axis=1,inplace=True)"
   ]
  },
  {
   "cell_type": "code",
   "execution_count": 309,
   "metadata": {
    "scrolled": true
   },
   "outputs": [],
   "source": [
    "#Feature extraction: Weekday\n",
    "df['week_day'] = pd.to_datetime(df['ticket_issued_date']).dt.dayofweek\n",
    "df.drop(labels=['ticket_issued_date'],axis=1,inplace=True)"
   ]
  },
  {
   "cell_type": "code",
   "execution_count": 310,
   "metadata": {},
   "outputs": [
    {
     "data": {
      "text/plain": [
       "Index(['agency_name', 'zip_code', 'country', 'violation_code', 'disposition',\n",
       "       'fine_amount', 'compliance', 'Month_Between_Grouping', 'week_day'],\n",
       "      dtype='object')"
      ]
     },
     "execution_count": 310,
     "metadata": {},
     "output_type": "execute_result"
    }
   ],
   "source": [
    "df.columns"
   ]
  },
  {
   "cell_type": "markdown",
   "metadata": {},
   "source": [
    "### Encode categorical variables"
   ]
  },
  {
   "cell_type": "code",
   "execution_count": 311,
   "metadata": {},
   "outputs": [],
   "source": [
    "# hot encoder list\n",
    "hot_encoder_list = ['agency_name','disposition','Month_Between_Grouping','violation_code','week_day','zip_code']\n",
    "final = df.copy(deep=True)\n",
    "\n",
    "for col in hot_encoder_list:\n",
    "    temp = pd.get_dummies(final[col], prefix=col).iloc[:,:-1]\n",
    "    final=pd.concat([final,temp],axis=1)\n",
    "\n",
    "count = pd.get_dummies(final['country'], prefix='country')\n",
    "final=pd.concat([final,count],axis=1)\n",
    "\n",
    "final.drop(labels=['agency_name','disposition','country','country_Others','Month_Between_Grouping','violation_code','week_day','zip_code'], axis=1, inplace=True)"
   ]
  },
  {
   "cell_type": "code",
   "execution_count": 312,
   "metadata": {},
   "outputs": [
    {
     "data": {
      "text/plain": [
       "Index(['fine_amount', 'compliance',\n",
       "       'agency_name_Buildings, Safety Engineering & Env Department',\n",
       "       'agency_name_Department of Public Works', 'disposition_Others',\n",
       "       'disposition_Responsible by Admission', 'Month_Between_Grouping_0',\n",
       "       'Month_Between_Grouping_1', 'Month_Between_Grouping_2',\n",
       "       'violation_code_22-2', 'violation_code_9-1-', 'week_day_0',\n",
       "       'week_day_1', 'week_day_2', 'week_day_3', 'week_day_4', 'week_day_5',\n",
       "       'zip_code_480', 'zip_code_481', 'zip_code_482', 'zip_code_483',\n",
       "       'country_USA'],\n",
       "      dtype='object')"
      ]
     },
     "execution_count": 312,
     "metadata": {},
     "output_type": "execute_result"
    }
   ],
   "source": [
    "final.columns"
   ]
  },
  {
   "cell_type": "markdown",
   "metadata": {},
   "source": [
    "### Create final training dataset"
   ]
  },
  {
   "cell_type": "code",
   "execution_count": 313,
   "metadata": {
    "collapsed": true
   },
   "outputs": [],
   "source": [
    "y_train = final['compliance']\n",
    "X_train = final.drop(labels=['compliance'], axis=1)"
   ]
  },
  {
   "cell_type": "code",
   "execution_count": 314,
   "metadata": {},
   "outputs": [
    {
     "name": "stdout",
     "output_type": "stream",
     "text": [
      "(159880,)\n",
      "(159880, 21)\n"
     ]
    }
   ],
   "source": [
    "print(y_train.shape)\n",
    "print(X_train.shape)"
   ]
  },
  {
   "cell_type": "code",
   "execution_count": 315,
   "metadata": {},
   "outputs": [
    {
     "data": {
      "text/plain": [
       "Index(['fine_amount',\n",
       "       'agency_name_Buildings, Safety Engineering & Env Department',\n",
       "       'agency_name_Department of Public Works', 'disposition_Others',\n",
       "       'disposition_Responsible by Admission', 'Month_Between_Grouping_0',\n",
       "       'Month_Between_Grouping_1', 'Month_Between_Grouping_2',\n",
       "       'violation_code_22-2', 'violation_code_9-1-', 'week_day_0',\n",
       "       'week_day_1', 'week_day_2', 'week_day_3', 'week_day_4', 'week_day_5',\n",
       "       'zip_code_480', 'zip_code_481', 'zip_code_482', 'zip_code_483',\n",
       "       'country_USA'],\n",
       "      dtype='object')"
      ]
     },
     "execution_count": 315,
     "metadata": {},
     "output_type": "execute_result"
    }
   ],
   "source": [
    "X_train.columns"
   ]
  },
  {
   "cell_type": "code",
   "execution_count": 316,
   "metadata": {
    "scrolled": true
   },
   "outputs": [],
   "source": [
    "#X_train"
   ]
  },
  {
   "cell_type": "markdown",
   "metadata": {},
   "source": [
    "# Hyperparameters tuning"
   ]
  },
  {
   "cell_type": "code",
   "execution_count": 317,
   "metadata": {
    "scrolled": true
   },
   "outputs": [],
   "source": [
    "from sklearn.ensemble import GradientBoostingClassifier\n",
    "from sklearn.model_selection import train_test_split\n",
    "from sklearn.metrics import roc_curve, auc\n",
    "from sklearn.model_selection import GridSearchCV\n",
    "\n",
    "X_train, X_test, y_train, y_test = train_test_split(X_train, y_train, random_state = 0)\n",
    "\n",
    "parameters = {\n",
    "    \"learning_rate\": [0.01, 0.05, 0.1],\n",
    "    \"max_depth\":[2,3,5],\n",
    "    \"n_estimators\":[50,100]\n",
    "    }\n",
    "#passing the scoring function in the GridSearchCV\n",
    "clf = GridSearchCV(GradientBoostingClassifier(random_state = 0), parameters,scoring='roc_auc',cv=3, n_jobs=-1,verbose=3)"
   ]
  },
  {
   "cell_type": "code",
   "execution_count": 318,
   "metadata": {
    "scrolled": true
   },
   "outputs": [
    {
     "name": "stdout",
     "output_type": "stream",
     "text": [
      "Fitting 3 folds for each of 18 candidates, totalling 54 fits\n",
      "[CV] learning_rate=0.01, max_depth=2, n_estimators=50 ................\n",
      "[CV] learning_rate=0.01, max_depth=2, n_estimators=50 ................\n",
      "[CV] learning_rate=0.01, max_depth=2, n_estimators=50 ................\n",
      "[CV] learning_rate=0.01, max_depth=2, n_estimators=100 ...............\n",
      "[CV] learning_rate=0.01, max_depth=2, n_estimators=100 ...............\n",
      "[CV] learning_rate=0.01, max_depth=2, n_estimators=100 ...............\n",
      "[CV] learning_rate=0.01, max_depth=3, n_estimators=50 ................\n",
      "[CV] learning_rate=0.01, max_depth=3, n_estimators=50 ................\n",
      "[CV] learning_rate=0.01, max_depth=3, n_estimators=50 ................\n",
      "[CV] learning_rate=0.01, max_depth=3, n_estimators=100 ...............\n",
      "[CV] learning_rate=0.01, max_depth=3, n_estimators=100 ...............\n",
      "[CV] learning_rate=0.01, max_depth=3, n_estimators=100 ...............\n",
      "[CV] learning_rate=0.01, max_depth=5, n_estimators=50 ................\n",
      "[CV] learning_rate=0.01, max_depth=5, n_estimators=50 ................\n",
      "[CV] learning_rate=0.01, max_depth=5, n_estimators=50 ................\n",
      "[CV] learning_rate=0.01, max_depth=5, n_estimators=100 ...............\n",
      "[CV] learning_rate=0.01, max_depth=5, n_estimators=100 ...............\n",
      "[CV] learning_rate=0.01, max_depth=5, n_estimators=100 ...............\n",
      "[CV] learning_rate=0.05, max_depth=2, n_estimators=50 ................\n",
      "[CV] learning_rate=0.05, max_depth=2, n_estimators=50 ................\n",
      "[CV] learning_rate=0.05, max_depth=2, n_estimators=50 ................\n",
      "[CV] learning_rate=0.05, max_depth=2, n_estimators=100 ...............\n",
      "[CV] learning_rate=0.05, max_depth=2, n_estimators=100 ...............\n",
      "[CV] learning_rate=0.05, max_depth=2, n_estimators=100 ...............\n",
      "[CV] learning_rate=0.05, max_depth=3, n_estimators=50 ................\n",
      "[CV] learning_rate=0.05, max_depth=3, n_estimators=50 ................\n",
      "[CV] learning_rate=0.05, max_depth=3, n_estimators=50 ................\n",
      "[CV] learning_rate=0.05, max_depth=3, n_estimators=100 ...............\n",
      "[CV] learning_rate=0.05, max_depth=3, n_estimators=100 ...............\n",
      "[CV] learning_rate=0.05, max_depth=3, n_estimators=100 ...............\n",
      "[CV] learning_rate=0.05, max_depth=5, n_estimators=50 ................\n",
      "[CV] learning_rate=0.05, max_depth=5, n_estimators=50 ................\n",
      "[CV]  learning_rate=0.01, max_depth=2, n_estimators=50, score=0.724383, total= 1.5min\n",
      "[CV] learning_rate=0.05, max_depth=5, n_estimators=50 ................\n",
      "[CV]  learning_rate=0.01, max_depth=2, n_estimators=50, score=0.725618, total= 1.9min\n",
      "[CV] learning_rate=0.05, max_depth=5, n_estimators=100 ...............\n",
      "[CV]  learning_rate=0.01, max_depth=2, n_estimators=50, score=0.731616, total= 2.2min\n",
      "[CV]  learning_rate=0.05, max_depth=2, n_estimators=50, score=0.767287, total= 2.0min\n",
      "[CV] learning_rate=0.05, max_depth=5, n_estimators=100 ...............\n",
      "[CV] learning_rate=0.05, max_depth=5, n_estimators=100 ...............\n",
      "[CV]  learning_rate=0.05, max_depth=2, n_estimators=50, score=0.762844, total= 2.3min\n",
      "[CV] learning_rate=0.1, max_depth=2, n_estimators=50 .................\n",
      "[CV]  learning_rate=0.05, max_depth=2, n_estimators=50, score=0.775847, total= 2.6min\n",
      "[CV]  learning_rate=0.01, max_depth=3, n_estimators=50, score=0.762010, total= 2.9min\n",
      "[CV] learning_rate=0.1, max_depth=2, n_estimators=50 .................\n",
      "[CV]  learning_rate=0.01, max_depth=2, n_estimators=100, score=0.726434, total= 3.0min\n",
      "[CV] learning_rate=0.1, max_depth=2, n_estimators=50 .................\n",
      "[CV] learning_rate=0.1, max_depth=2, n_estimators=100 ................\n",
      "[CV]  learning_rate=0.01, max_depth=3, n_estimators=50, score=0.768886, total= 3.2min\n",
      "[CV] learning_rate=0.1, max_depth=2, n_estimators=100 ................\n",
      "[CV]  learning_rate=0.01, max_depth=3, n_estimators=50, score=0.764897, total= 3.2min\n"
     ]
    },
    {
     "name": "stderr",
     "output_type": "stream",
     "text": [
      "[Parallel(n_jobs=-1)]: Done  10 out of  54 | elapsed:  3.5min remaining: 15.4min\n"
     ]
    },
    {
     "name": "stdout",
     "output_type": "stream",
     "text": [
      "[CV] learning_rate=0.1, max_depth=2, n_estimators=100 ................\n",
      "[CV]  learning_rate=0.01, max_depth=2, n_estimators=100, score=0.732478, total= 4.0min\n",
      "[CV] learning_rate=0.1, max_depth=3, n_estimators=50 .................\n",
      "[CV]  learning_rate=0.05, max_depth=3, n_estimators=50, score=0.779006, total= 3.7min\n",
      "[CV]  learning_rate=0.05, max_depth=3, n_estimators=50, score=0.774653, total= 3.7min\n",
      "[CV] learning_rate=0.1, max_depth=3, n_estimators=50 .................\n",
      "[CV] learning_rate=0.1, max_depth=3, n_estimators=50 .................\n",
      "[CV]  learning_rate=0.01, max_depth=2, n_estimators=100, score=0.725196, total= 4.4min\n",
      "[CV] learning_rate=0.1, max_depth=3, n_estimators=100 ................\n",
      "[CV]  learning_rate=0.05, max_depth=3, n_estimators=50, score=0.774577, total= 4.3min\n",
      "[CV]  learning_rate=0.1, max_depth=2, n_estimators=50, score=0.772943, total= 2.0min\n",
      "[CV] learning_rate=0.1, max_depth=3, n_estimators=100 ................\n",
      "[CV] learning_rate=0.1, max_depth=3, n_estimators=100 ................\n",
      "[CV]  learning_rate=0.05, max_depth=2, n_estimators=100, score=0.772745, total= 4.4min\n",
      "[CV] learning_rate=0.1, max_depth=5, n_estimators=50 .................\n",
      "[CV]  learning_rate=0.05, max_depth=2, n_estimators=100, score=0.779654, total= 4.6min\n",
      "[CV]  learning_rate=0.05, max_depth=2, n_estimators=100, score=0.777686, total= 4.5min\n",
      "[CV] learning_rate=0.1, max_depth=5, n_estimators=50 .................\n",
      "[CV] learning_rate=0.1, max_depth=5, n_estimators=50 .................\n",
      "[CV]  learning_rate=0.1, max_depth=2, n_estimators=50, score=0.779824, total= 2.3min\n",
      "[CV] learning_rate=0.1, max_depth=5, n_estimators=100 ................\n",
      "[CV]  learning_rate=0.1, max_depth=2, n_estimators=50, score=0.777506, total= 2.9min\n",
      "[CV] learning_rate=0.1, max_depth=5, n_estimators=100 ................\n",
      "[CV]  learning_rate=0.01, max_depth=3, n_estimators=100, score=0.762567, total= 7.2min\n",
      "[CV] learning_rate=0.1, max_depth=5, n_estimators=100 ................\n",
      "[CV]  learning_rate=0.01, max_depth=5, n_estimators=50, score=0.782816, total= 7.3min\n",
      "[CV]  learning_rate=0.05, max_depth=3, n_estimators=100, score=0.789863, total= 6.7min\n",
      "[CV]  learning_rate=0.01, max_depth=3, n_estimators=100, score=0.765371, total= 7.5min\n",
      "[CV]  learning_rate=0.1, max_depth=2, n_estimators=100, score=0.775589, total= 4.3min\n",
      "[CV]  learning_rate=0.01, max_depth=5, n_estimators=50, score=0.771848, total= 7.4min\n",
      "[CV]  learning_rate=0.01, max_depth=3, n_estimators=100, score=0.769542, total= 7.6min\n",
      "[CV]  learning_rate=0.1, max_depth=2, n_estimators=100, score=0.782121, total= 4.6min\n"
     ]
    },
    {
     "name": "stderr",
     "output_type": "stream",
     "text": [
      "[Parallel(n_jobs=-1)]: Done  29 out of  54 | elapsed:  8.1min remaining:  7.0min\n"
     ]
    },
    {
     "name": "stdout",
     "output_type": "stream",
     "text": [
      "[CV]  learning_rate=0.1, max_depth=2, n_estimators=100, score=0.780747, total= 4.3min\n",
      "[CV]  learning_rate=0.1, max_depth=3, n_estimators=50, score=0.782749, total= 3.6min\n",
      "[CV]  learning_rate=0.1, max_depth=3, n_estimators=50, score=0.777200, total= 3.8min\n",
      "[CV]  learning_rate=0.05, max_depth=3, n_estimators=100, score=0.777441, total= 7.4min\n",
      "[CV]  learning_rate=0.05, max_depth=3, n_estimators=100, score=0.782763, total= 7.2min\n",
      "[CV]  learning_rate=0.1, max_depth=3, n_estimators=50, score=0.788674, total= 3.8min\n",
      "[CV]  learning_rate=0.05, max_depth=5, n_estimators=50, score=0.777716, total= 7.3min\n",
      "[CV]  learning_rate=0.01, max_depth=5, n_estimators=50, score=0.776818, total= 8.2min\n",
      "[CV]  learning_rate=0.1, max_depth=3, n_estimators=100, score=0.790507, total= 4.0min\n",
      "[CV]  learning_rate=0.05, max_depth=5, n_estimators=50, score=0.783730, total= 7.6min\n",
      "[CV]  learning_rate=0.05, max_depth=5, n_estimators=50, score=0.788682, total= 8.3min\n",
      "[CV]  learning_rate=0.1, max_depth=3, n_estimators=100, score=0.784887, total= 4.6min\n",
      "[CV]  learning_rate=0.1, max_depth=3, n_estimators=100, score=0.780172, total= 5.4min\n",
      "[CV]  learning_rate=0.1, max_depth=5, n_estimators=50, score=0.785027, total= 5.1min\n",
      "[CV]  learning_rate=0.1, max_depth=5, n_estimators=50, score=0.780145, total= 5.4min\n",
      "[CV]  learning_rate=0.01, max_depth=5, n_estimators=100, score=0.775804, total=10.5min\n",
      "[CV]  learning_rate=0.01, max_depth=5, n_estimators=100, score=0.786893, total=10.5min\n",
      "[CV]  learning_rate=0.1, max_depth=5, n_estimators=50, score=0.790707, total= 5.6min\n",
      "[CV]  learning_rate=0.01, max_depth=5, n_estimators=100, score=0.781453, total=10.8min\n"
     ]
    },
    {
     "name": "stderr",
     "output_type": "stream",
     "text": [
      "[Parallel(n_jobs=-1)]: Done  48 out of  54 | elapsed: 11.1min remaining:  1.4min\n"
     ]
    },
    {
     "name": "stdout",
     "output_type": "stream",
     "text": [
      "[CV]  learning_rate=0.05, max_depth=5, n_estimators=100, score=0.785102, total= 8.7min\n",
      "[CV]  learning_rate=0.05, max_depth=5, n_estimators=100, score=0.780290, total= 9.2min\n",
      "[CV]  learning_rate=0.05, max_depth=5, n_estimators=100, score=0.790621, total= 8.9min\n",
      "[CV]  learning_rate=0.1, max_depth=5, n_estimators=100, score=0.791627, total= 5.3min\n",
      "[CV]  learning_rate=0.1, max_depth=5, n_estimators=100, score=0.787068, total= 4.1min\n",
      "[CV]  learning_rate=0.1, max_depth=5, n_estimators=100, score=0.780575, total= 6.0min\n"
     ]
    },
    {
     "name": "stderr",
     "output_type": "stream",
     "text": [
      "[Parallel(n_jobs=-1)]: Done  54 out of  54 | elapsed: 11.6min finished\n"
     ]
    },
    {
     "data": {
      "text/plain": [
       "{'mean_fit_time': array([ 110.98916316,  223.42722178,  184.860207  ,  440.66880894,\n",
       "         452.23574583,  635.23335989,  134.70220955,  268.10082428,\n",
       "         226.30331739,  423.00005825,  460.06715091,  534.53850484,\n",
       "         141.13705134,  260.37004709,  221.26816742,  277.93649324,\n",
       "         320.00431808,  306.6770486 ]),\n",
       " 'mean_score_time': array([ 1.69785206,  5.16553871,  2.30015683,  5.63143134,  5.36793963,\n",
       "         1.46671931,  2.00010562,  2.73384118,  5.99882619,  2.96894177,\n",
       "         2.60119128,  0.89744059,  1.69969678,  2.46781643,  2.7702148 ,\n",
       "         1.46847049,  1.49680813,  0.42867835]),\n",
       " 'mean_test_score': array([ 0.72720544,  0.72803603,  0.76526424,  0.76582661,  0.77716087,\n",
       "         0.78138331,  0.76865937,  0.77669515,  0.77607853,  0.78335576,\n",
       "         0.78337604,  0.78533762,  0.7767576 ,  0.77948571,  0.78287432,\n",
       "         0.78518865,  0.78529277,  0.78642315]),\n",
       " 'mean_train_score': array([ 0.72720633,  0.7280423 ,  0.76546571,  0.76613745,  0.77828216,\n",
       "         0.78279731,  0.76908673,  0.77730193,  0.77710573,  0.78386366,\n",
       "         0.78614165,  0.78970166,  0.77723363,  0.78070195,  0.78390498,\n",
       "         0.78704255,  0.79003885,  0.79454199]),\n",
       " 'param_learning_rate': masked_array(data = [0.01 0.01 0.01 0.01 0.01 0.01 0.05 0.05 0.05 0.05 0.05 0.05 0.1 0.1 0.1\n",
       "  0.1 0.1 0.1],\n",
       "              mask = [False False False False False False False False False False False False\n",
       "  False False False False False False],\n",
       "        fill_value = ?),\n",
       " 'param_max_depth': masked_array(data = [2 2 3 3 5 5 2 2 3 3 5 5 2 2 3 3 5 5],\n",
       "              mask = [False False False False False False False False False False False False\n",
       "  False False False False False False],\n",
       "        fill_value = ?),\n",
       " 'param_n_estimators': masked_array(data = [50 100 50 100 50 100 50 100 50 100 50 100 50 100 50 100 50 100],\n",
       "              mask = [False False False False False False False False False False False False\n",
       "  False False False False False False],\n",
       "        fill_value = ?),\n",
       " 'params': ({'learning_rate': 0.01, 'max_depth': 2, 'n_estimators': 50},\n",
       "  {'learning_rate': 0.01, 'max_depth': 2, 'n_estimators': 100},\n",
       "  {'learning_rate': 0.01, 'max_depth': 3, 'n_estimators': 50},\n",
       "  {'learning_rate': 0.01, 'max_depth': 3, 'n_estimators': 100},\n",
       "  {'learning_rate': 0.01, 'max_depth': 5, 'n_estimators': 50},\n",
       "  {'learning_rate': 0.01, 'max_depth': 5, 'n_estimators': 100},\n",
       "  {'learning_rate': 0.05, 'max_depth': 2, 'n_estimators': 50},\n",
       "  {'learning_rate': 0.05, 'max_depth': 2, 'n_estimators': 100},\n",
       "  {'learning_rate': 0.05, 'max_depth': 3, 'n_estimators': 50},\n",
       "  {'learning_rate': 0.05, 'max_depth': 3, 'n_estimators': 100},\n",
       "  {'learning_rate': 0.05, 'max_depth': 5, 'n_estimators': 50},\n",
       "  {'learning_rate': 0.05, 'max_depth': 5, 'n_estimators': 100},\n",
       "  {'learning_rate': 0.1, 'max_depth': 2, 'n_estimators': 50},\n",
       "  {'learning_rate': 0.1, 'max_depth': 2, 'n_estimators': 100},\n",
       "  {'learning_rate': 0.1, 'max_depth': 3, 'n_estimators': 50},\n",
       "  {'learning_rate': 0.1, 'max_depth': 3, 'n_estimators': 100},\n",
       "  {'learning_rate': 0.1, 'max_depth': 5, 'n_estimators': 50},\n",
       "  {'learning_rate': 0.1, 'max_depth': 5, 'n_estimators': 100}),\n",
       " 'rank_test_score': array([18, 17, 16, 15, 10,  8, 14, 12, 13,  6,  5,  2, 11,  9,  7,  4,  3,\n",
       "         1], dtype=int32),\n",
       " 'split0_test_score': array([ 0.72561754,  0.72643359,  0.76200972,  0.76256688,  0.77184828,\n",
       "         0.77580384,  0.7672866 ,  0.77274543,  0.77457712,  0.77744086,\n",
       "         0.77771565,  0.78029024,  0.77294339,  0.7755894 ,  0.77719996,\n",
       "         0.78017197,  0.78014501,  0.78057457]),\n",
       " 'split0_train_score': array([ 0.72800157,  0.72884007,  0.76687847,  0.76764494,  0.7806655 ,\n",
       "         0.78554317,  0.77375299,  0.78141098,  0.78306109,  0.78626215,\n",
       "         0.78873642,  0.79271188,  0.78174319,  0.78394904,  0.7870249 ,\n",
       "         0.78991226,  0.79333923,  0.79830069]),\n",
       " 'split1_test_score': array([ 0.73161611,  0.73247823,  0.76888625,  0.76954192,  0.78281614,\n",
       "         0.78689287,  0.77584718,  0.77965394,  0.77900573,  0.78986317,\n",
       "         0.78868223,  0.79062094,  0.77982385,  0.78212054,  0.78867402,\n",
       "         0.79050691,  0.79070661,  0.79162687]),\n",
       " 'split1_train_score': array([ 0.72500054,  0.72582313,  0.76349079,  0.7641202 ,  0.77623325,\n",
       "         0.7802203 ,  0.76917265,  0.77369536,  0.772452  ,  0.78197993,\n",
       "         0.7832252 ,  0.78727961,  0.77334776,  0.7774547 ,  0.78112198,\n",
       "         0.78420789,  0.78754366,  0.79254948]),\n",
       " 'split2_test_score': array([ 0.72438265,  0.72519625,  0.76489683,  0.7653711 ,  0.77681831,\n",
       "         0.78145335,  0.76284423,  0.7776862 ,  0.77465276,  0.78276338,\n",
       "         0.78373041,  0.78510182,  0.77750568,  0.78074731,  0.78274911,\n",
       "         0.78488718,  0.78502681,  0.78706818]),\n",
       " 'split2_train_score': array([ 0.7286169 ,  0.72946369,  0.76602787,  0.7666472 ,  0.77794771,\n",
       "         0.78262846,  0.76433454,  0.77679946,  0.7758041 ,  0.7833489 ,\n",
       "         0.78646334,  0.7891135 ,  0.77660994,  0.7807021 ,  0.78356807,\n",
       "         0.78700749,  0.78923366,  0.7927758 ]),\n",
       " 'std_fit_time': array([ 17.13329409,  34.00817607,   8.58845611,   6.64548916,\n",
       "         24.0216736 ,   7.20251545,  15.52234161,   2.43236378,\n",
       "         18.13997167,  18.63879015,  22.69154395,  10.70220366,\n",
       "         21.75119441,   8.46124549,   8.77283323,  32.26216648,\n",
       "         11.19823593,  48.35272956]),\n",
       " 'std_score_time': array([ 1.06018785,  5.11773283,  1.01926543,  2.37166441,  0.6245591 ,\n",
       "         0.23567625,  1.20918843,  1.32473695,  2.11788424,  0.75958449,\n",
       "         2.47778328,  0.21289849,  0.77652664,  0.44778055,  1.38794091,\n",
       "         0.7050246 ,  0.75081374,  0.05573662]),\n",
       " 'std_test_score': array([ 0.0031593 ,  0.00318146,  0.00281935,  0.00286572,  0.00448418,\n",
       "         0.00452738,  0.00539642,  0.00290616,  0.00207007,  0.00508869,\n",
       "         0.00448412,  0.00422081,  0.00285832,  0.00281161,  0.00468513,\n",
       "         0.00422463,  0.00431588,  0.0045351 ]),\n",
       " 'std_train_score': array([ 0.00157984,  0.00158971,  0.00143901,  0.00148343,  0.00182485,\n",
       "         0.00217633,  0.00384555,  0.00316986,  0.00442786,  0.0017857 ,\n",
       "         0.00226142,  0.00225637,  0.00345568,  0.00265131,  0.0024216 ,\n",
       "         0.00232893,  0.00243357,  0.00265941])}"
      ]
     },
     "execution_count": 318,
     "metadata": {},
     "output_type": "execute_result"
    }
   ],
   "source": [
    "clf.fit(X_train, y_train)\n",
    "clf.cv_results_"
   ]
  },
  {
   "cell_type": "code",
   "execution_count": 319,
   "metadata": {},
   "outputs": [
    {
     "name": "stdout",
     "output_type": "stream",
     "text": [
      "{'learning_rate': 0.1, 'max_depth': 5, 'n_estimators': 100}\n",
      "0.786423153468\n"
     ]
    }
   ],
   "source": [
    "print(clf.best_params_)\n",
    "print(clf.best_score_)"
   ]
  },
  {
   "cell_type": "markdown",
   "metadata": {},
   "source": [
    "### Train Model"
   ]
  },
  {
   "cell_type": "code",
   "execution_count": 320,
   "metadata": {
    "scrolled": true
   },
   "outputs": [
    {
     "name": "stdout",
     "output_type": "stream",
     "text": [
      "      Iter       Train Loss   Remaining Time \n",
      "         1           0.4907           30.93s\n",
      "         2           0.4749           32.91s\n",
      "         3           0.4636           31.54s\n",
      "         4           0.4553           30.81s\n",
      "         5           0.4490           30.32s\n",
      "         6           0.4440           29.94s\n",
      "         7           0.4399           30.17s\n",
      "         8           0.4366           29.66s\n",
      "         9           0.4340           29.17s\n",
      "        10           0.4318           28.78s\n",
      "        20           0.4220           26.73s\n",
      "        30           0.4194           22.60s\n",
      "        40           0.4181           18.57s\n",
      "        50           0.4171           15.37s\n",
      "        60           0.4164           12.05s\n",
      "        70           0.4158            9.13s\n",
      "        80           0.4152            6.13s\n",
      "        90           0.4147            3.06s\n",
      "       100           0.4143            0.00s\n"
     ]
    },
    {
     "data": {
      "image/png": "[encoded data removed]",
      "text/plain": [
       "<matplotlib.figure.Figure at 0x7fd34a138c50>"
      ]
     },
     "metadata": {},
     "output_type": "display_data"
    }
   ],
   "source": [
    "clf = GradientBoostingClassifier(learning_rate=0.1,max_depth=5,n_estimators=100,random_state = 0,verbose=1)\n",
    "clf = clf.fit(X_train, y_train)\n",
    "\n",
    "y_proba = clf.predict_proba(X_test)\n",
    "fpr_lr, tpr_lr, _ = roc_curve(y_test, y_proba[:,1])\n",
    "roc_auc_lr = auc(fpr_lr, tpr_lr)\n",
    "\n",
    "plt.figure()\n",
    "plt.xlim([-0.01, 1.00])\n",
    "plt.ylim([-0.01, 1.01])\n",
    "plt.plot(fpr_lr, tpr_lr, lw=3, label='LogRegr ROC curve (area = {:0.2f})'.format(roc_auc_lr))\n",
    "plt.xlabel('False Positive Rate', fontsize=16)\n",
    "plt.ylabel('True Positive Rate', fontsize=16)\n",
    "plt.title('ROC curve (1-of-10 digits classifier)', fontsize=16)\n",
    "plt.legend(loc='lower right', fontsize=13)\n",
    "plt.plot([0, 1], [0, 1], color='navy', lw=3, linestyle='--')\n",
    "plt.axes().set_aspect('equal')\n",
    "plt.show()"
   ]
  },
  {
   "cell_type": "markdown",
   "metadata": {},
   "source": [
    "### Feature extraction: Test data"
   ]
  },
  {
   "cell_type": "code",
   "execution_count": 340,
   "metadata": {
    "collapsed": true
   },
   "outputs": [],
   "source": [
    "def feature_extraction(dataset):\n",
    "    df = dataset.copy(deep=True)\n",
    "    df.set_index('ticket_id',drop=True,inplace=True)\n",
    "    \n",
    "    # Exclude following columns due to large missing data or data leakage issue for data unvailable at the time of future training\n",
    "    exclusion_list = ['non_us_str_code'\n",
    "                      ,'violation_zip_code'\n",
    "                      ,'admin_fee'\n",
    "                      ,'state_fee'\n",
    "                      ,'late_fee'\n",
    "                      ,'discount_amount'\n",
    "                      ,'violation_street_number'\n",
    "                      ,'mailing_address_str_number'\n",
    "                      ,'judgment_amount'\n",
    "                      ,'violation_street_name'\n",
    "                      ,'clean_up_cost'\n",
    "                      ,'grafitti_status']\n",
    "    df.drop(labels=exclusion_list,axis=1,inplace=True)\n",
    "    \n",
    "    # Exclude following object columns due to high cardinality or double information (state&zipcode)\n",
    "    exclusion_list = ['inspector_name'\n",
    "                      ,'violator_name'\n",
    "                      ,'violation_description'\n",
    "                      ,'mailing_address_str_name'\n",
    "                      ,'city'\n",
    "                      ,'state']\n",
    "    df.drop(labels=exclusion_list,axis=1,inplace=True)\n",
    "    \n",
    "    #Feature extraction: AGENCY\n",
    "    df['agency_name'] = df['agency_name'].apply(lambda x: x if x in ['Buildings, Safety Engineering & Env Department','Department of Public Works'] else 'Others') \n",
    "    \n",
    "    #Feature extraction: DISPOSITION\n",
    "    df['disposition'] = df['disposition'].apply(lambda x: x if x in ['Responsible by Default','Responsible by Admission'] else 'Others') \n",
    "    \n",
    "    #Feature extraction: COUNTRY\n",
    "    df['country'] = df['country'].apply(lambda x: x if x in ['USA'] else 'Others') \n",
    "\n",
    "    #Feature extraction: VIOLATION_CODE\n",
    "    df['violation_code'] = df['violation_code'].apply(lambda x: x[:4] if x[:4] in ['9-1-','22-2'] else 'Others') \n",
    "    \n",
    "    #Feature extraction: ZIP_CODE\n",
    "    df['zip_code'] = df['zip_code'].astype('str').apply(lambda x: x[:3] if x[:3] in ['480','481','482','483'] else 'Others') \n",
    "    \n",
    "    from datetime import datetime\n",
    "    #Convert datetime to date\n",
    "    df['ticket_issued_date'] = pd.to_datetime(df['ticket_issued_date'], format='%Y-%m-%d')\n",
    "    df['hearing_date'] = pd.to_datetime(df['hearing_date'], format='%Y-%m-%d')\n",
    "    #Calculate Month_between\n",
    "    df['Month_Between'] = df['hearing_date'].dt.to_period('M') - df['ticket_issued_date'].dt.to_period('M')\n",
    "    df['Month_Between'] = df['Month_Between'].astype(int)\n",
    "    #Create grouping based on frequency\n",
    "    def month_grouping(row):\n",
    "        if row >= 0 and row <= 1:\n",
    "            return 1\n",
    "        elif row >= 2 and row <= 3:\n",
    "            return 2\n",
    "        elif row > 3:\n",
    "            return 3\n",
    "        else:\n",
    "            return 0\n",
    "    df['Month_Between_Grouping'] = df['Month_Between'].apply(lambda x: month_grouping(x))\n",
    "    df.drop(labels=['Month_Between','hearing_date'],axis=1,inplace=True)\n",
    "    \n",
    "    #Feature extraction: Weekday\n",
    "    df['week_day'] = pd.to_datetime(df['ticket_issued_date']).dt.dayofweek\n",
    "    df.drop(labels=['ticket_issued_date'],axis=1,inplace=True)\n",
    "    \n",
    "    # hot encoder list\n",
    "    hot_encoder_list = ['agency_name','disposition','Month_Between_Grouping','violation_code','week_day','zip_code']\n",
    "    final = df.copy(deep=True)\n",
    "\n",
    "    for col in hot_encoder_list:\n",
    "        temp = pd.get_dummies(final[col], prefix=col).iloc[:,:-1]\n",
    "        final=pd.concat([final,temp],axis=1)\n",
    "    \n",
    "    count = pd.get_dummies(final['country'], prefix='country')\n",
    "    final=pd.concat([final,count],axis=1)\n",
    "    \n",
    "    final.drop(labels=['agency_name','disposition','country','Month_Between_Grouping','violation_code','week_day','zip_code'], axis=1, inplace=True)\n",
    "    \n",
    "    return final"
   ]
  },
  {
   "cell_type": "code",
   "execution_count": 341,
   "metadata": {},
   "outputs": [
    {
     "data": {
      "text/plain": [
       "Index(['ticket_id', 'agency_name', 'inspector_name', 'violator_name',\n",
       "       'violation_street_number', 'violation_street_name',\n",
       "       'violation_zip_code', 'mailing_address_str_number',\n",
       "       'mailing_address_str_name', 'city', 'state', 'zip_code',\n",
       "       'non_us_str_code', 'country', 'ticket_issued_date', 'hearing_date',\n",
       "       'violation_code', 'violation_description', 'disposition', 'fine_amount',\n",
       "       'admin_fee', 'state_fee', 'late_fee', 'discount_amount',\n",
       "       'clean_up_cost', 'judgment_amount', 'grafitti_status'],\n",
       "      dtype='object')"
      ]
     },
     "execution_count": 341,
     "metadata": {},
     "output_type": "execute_result"
    }
   ],
   "source": [
    "test = pd.read_csv('readonly/test.csv',engine='python')\n",
    "test.columns"
   ]
  },
  {
   "cell_type": "markdown",
   "metadata": {},
   "source": [
    "### Create final test dataset"
   ]
  },
  {
   "cell_type": "code",
   "execution_count": 343,
   "metadata": {
    "collapsed": true
   },
   "outputs": [],
   "source": [
    "X_test = feature_extraction(test)"
   ]
  },
  {
   "cell_type": "code",
   "execution_count": 344,
   "metadata": {},
   "outputs": [
    {
     "data": {
      "text/plain": [
       "(61001, 21)"
      ]
     },
     "execution_count": 344,
     "metadata": {},
     "output_type": "execute_result"
    }
   ],
   "source": [
    "X_test.shape"
   ]
  },
  {
   "cell_type": "markdown",
   "metadata": {},
   "source": [
    "### Prediction"
   ]
  },
  {
   "cell_type": "code",
   "execution_count": 347,
   "metadata": {},
   "outputs": [
    {
     "data": {
      "text/plain": [
       "array([ 0.05431935,  0.00898835,  0.0725156 , ...,  0.07396219,\n",
       "        0.07396219,  0.05273412])"
      ]
     },
     "execution_count": 347,
     "metadata": {},
     "output_type": "execute_result"
    }
   ],
   "source": [
    "prediction = clf.predict_proba(X_test)"
   ]
  },
  {
   "cell_type": "code",
   "execution_count": 349,
   "metadata": {
    "scrolled": true
   },
   "outputs": [
    {
     "data": {
      "text/plain": [
       "ticket_id\n",
       "284932    0.054319\n",
       "285362    0.008988\n",
       "285361    0.072516\n",
       "285338    0.096239\n",
       "285346    0.144687\n",
       "285345    0.096239\n",
       "285347    0.086728\n",
       "285342    0.624196\n",
       "285530    0.023705\n",
       "284989    0.032417\n",
       "285344    0.086728\n",
       "285343    0.015343\n",
       "285340    0.008988\n",
       "285341    0.058903\n",
       "285349    0.096703\n",
       "285348    0.063427\n",
       "284991    0.032417\n",
       "285532    0.019990\n",
       "285406    0.019990\n",
       "285001    0.017285\n",
       "285006    0.008070\n",
       "285405    0.022860\n",
       "285337    0.032520\n",
       "285496    0.087116\n",
       "285497    0.084277\n",
       "285378    0.023751\n",
       "285589    0.032520\n",
       "285585    0.053476\n",
       "285501    0.069770\n",
       "285581    0.008923\n",
       "            ...   \n",
       "376367    0.023967\n",
       "376366    0.035908\n",
       "376362    0.383955\n",
       "376363    0.314278\n",
       "376365    0.023967\n",
       "376364    0.035908\n",
       "376228    0.035908\n",
       "376265    0.049811\n",
       "376286    0.198011\n",
       "376320    0.036640\n",
       "376314    0.036640\n",
       "376327    0.204558\n",
       "376385    0.233992\n",
       "376435    0.131136\n",
       "376370    0.379721\n",
       "376434    0.061132\n",
       "376459    0.059962\n",
       "376478    0.005128\n",
       "376473    0.034872\n",
       "376484    0.028064\n",
       "376482    0.021445\n",
       "376480    0.021445\n",
       "376479    0.021445\n",
       "376481    0.021445\n",
       "376483    0.036556\n",
       "376496    0.015770\n",
       "376497    0.015770\n",
       "376499    0.073962\n",
       "376500    0.073962\n",
       "369851    0.052734\n",
       "Name: y_hat, dtype: float64"
      ]
     },
     "execution_count": 349,
     "metadata": {},
     "output_type": "execute_result"
    }
   ],
   "source": [
    "prediction = clf.predict_proba(X_test)\n",
    "exclusion = list(X_test.columns)\n",
    "X_test['y_hat']=prediction[:,1]\n",
    "ans = X_test.drop(labels=exclusion,axis=1)\n",
    "ans.y_hat"
   ]
  }
 ],
 "metadata": {
  "coursera": {
   "course_slug": "python-machine-learning",
   "graded_item_id": "nNS8l",
   "launcher_item_id": "yWWk7",
   "part_id": "w8BSS"
  },
  "kernelspec": {
   "display_name": "Python 3",
   "language": "python",
   "name": "python3"
  },
  "language_info": {
   "codemirror_mode": {
    "name": "ipython",
    "version": 3
   },
   "file_extension": ".py",
   "mimetype": "text/x-python",
   "name": "python",
   "nbconvert_exporter": "python",
   "pygments_lexer": "ipython3",
   "version": "3.8.5"
  }
 },
 "nbformat": 4,
 "nbformat_minor": 2
}
