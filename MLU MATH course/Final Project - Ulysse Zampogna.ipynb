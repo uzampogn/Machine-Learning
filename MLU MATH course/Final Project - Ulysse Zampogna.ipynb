{
 "cells": [
  {
   "cell_type": "markdown",
   "metadata": {},
   "source": [
    "![MLU Logo](https://drive.corp.amazon.com/view/bwernes@/MLU_Logo.png?download=true)"
   ]
  },
  {
   "cell_type": "markdown",
   "metadata": {},
   "source": [
    "# <a name=\"0\">MLU MATH - Final Project</a>\n"
   ]
  },
  {
   "cell_type": "markdown",
   "metadata": {},
   "source": [
    "Although recommender systems are the secret source for many multi-billion businesses, prototyping a minimum viable recommender system takes only some basic mathematical and statistical fundamentals for machine learning to implement. For the final project, we will start from scratch and walk through the process of how to prototype a book recommender system.\n",
    "\n",
    "* <a href=\"#99\">Business Problem: Recommender System</a> (predict user preferences)\n",
    "    * ML Problem and Data Loading\n",
    "    \n",
    "    \n",
    "* <a href=\"#1\">Question 1</a>: Basic Data Visualization\n",
    "* <a href=\"#2\">Question 2</a>: Data Vectorization\n",
    "* <a href=\"#3\">Question 3</a>: Model Definition\n",
    "* <a href=\"#4\">Question 4</a>: Baseline Model\n",
    "* <a href=\"#5\">Question 5</a>: Model Likelihood\n",
    "* <a href=\"#6\">Question 6</a>: Loss Function\n",
    "* <a href=\"#7\">Question 7</a>: Gradient Descent\n",
    "* <a href=\"#8\">Question 8</a>: Overfitting\n",
    "* <a href=\"#9\">Question 9</a>: Recommendations\n",
    "* <a href=\"#10\">Question 10</a>: Submit to Leaderboard\n",
    "\n",
    "\n",
    "* <a href=\"#100\">Final Comments</a> "
   ]
  },
  {
   "cell_type": "code",
   "execution_count": 194,
   "metadata": {},
   "outputs": [],
   "source": [
    "import random"
   ]
  },
  {
   "cell_type": "code",
   "execution_count": 120,
   "metadata": {},
   "outputs": [
    {
     "data": {
      "application/javascript": [
       "IPython.notebook.set_autosave_interval(30000)"
      ]
     },
     "metadata": {},
     "output_type": "display_data"
    },
    {
     "name": "stdout",
     "output_type": "stream",
     "text": [
      "Autosaving every 30 seconds\n"
     ]
    }
   ],
   "source": [
    "# Standard libraries\n",
    "# Upgrade dependencies\n",
    "#!pip install --upgrade pip\n",
    "#!pip install --upgrade scikit-learn\n",
    "\n",
    "import numpy as np\n",
    "import pandas as pd\n",
    "import matplotlib.pyplot as plt\n",
    "import math as math\n",
    "import seaborn as sns\n",
    "import time\n",
    "import torch\n",
    "from imblearn.over_sampling import RandomOverSampler\n",
    "\n",
    "\n",
    "from sklearn.model_selection import train_test_split\n",
    "\n",
    "import warnings\n",
    "\n",
    "warnings.filterwarnings(\"ignore\")\n",
    "\n",
    "%matplotlib inline\n",
    "%autosave 30"
   ]
  },
  {
   "cell_type": "markdown",
   "metadata": {},
   "source": [
    "## <a name=\"99\">Business Problem: Recommender System</a> \n",
    "(<a href=\"#0\">Go to top</a>)\n",
    "\n",
    "For your final project, you will leverage your growing mathematical knowledge to build a __recommender system__ similar to those that you find used throughout any digital content provider which will attempt to predict user's preferences based upon past ratings.  The technique we use is called a __model-based  collaborative filtering__ where we use only a user’s past behaviors (items previously purchased and ratings given to those items) to build a model to predict the missing data (ratings for items that the user may have an interest in).\n",
    "\n",
    "\n",
    "#### Data Loading\n",
    "\n",
    "We are using a subset of Amazon reviews for our task.  It is actually based after a [public dataset](http://jmcauley.ucsd.edu/data/amazon/) collected by scraping all reviews prior to 2014, extracting userID, ASIN, and star rating. This dataset itself would be very large and hard to train on owing to the fact there are many ASINs without only one or two reviews, and many users that only review one or two books.  The subset we use is actually a very restricted subset known as the $40$-core.  This is the collection of those ASINs and users such that every ASIN has at least 40 reviews and every user has reviewed at least 40 books (if you are wondering how this was done, see [this notebook](https://eider.corp.amazon.com/bwernes/notebook/output/NB90E71Y0N)). The ratings are on a scale from 1 to 5.\n",
    "\n",
    "Let's load our datasets, ```training``` and ```test_features```. We build the recommender system using the ```training``` data, and evaluate how well the model performs on the ```test_features```, by submitting model predictions to this [leaderboard](https://leaderboard.corp.amazon.com/tasks/665).\n",
    "\n",
    "The code below loads the datasets, stores a list of the unique userIDs and ASINs, counts the number of such userIDs and ASINs, and then splits the ```training``` dataset into two sets: ```train``` (train set) and ```val``` (validation set). We will use the validation set to evaluate model performance before submitting to the leaderboard.\n"
   ]
  },
  {
   "cell_type": "code",
   "execution_count": 121,
   "metadata": {},
   "outputs": [
    {
     "name": "stdout",
     "output_type": "stream",
     "text": [
      "-----------\n",
      "Sample Training Data\n",
      "-----------\n",
      "       ID            User        ASIN  Rating\n",
      "0   66799  A3NDST1X8JVAP7  1490471103       5\n",
      "1   80385  A1E2T8OSEMVN3H  149473592X       5\n",
      "2   80636  A3BR1CG9CRXB6Z  1494755610       5\n",
      "3   45627   AGYHA346U3CNP  1477694919       2\n",
      "4   78045  A2N0YZV2JT6O72  1493752650       5\n",
      "5   94816  A3CMSC7HZMYCC2  B00APSWJM4       4\n",
      "6   80493  A2ZU73E6RDADJV  1494751534       5\n",
      "7   83054  A2ZU73E6RDADJV  1495912183       5\n",
      "8  103080  A3361XGKYF17S3  B00HBIZ4UA       4\n",
      "9   94507  A29M2V3Z5YIL2Q  B00A6NG154       5\n",
      "-----------\n",
      "Sample Test Data\n",
      "-----------\n",
      "       ID            User        ASIN\n",
      "0   84634  A1C7DFNSXTY09X  149617707X\n",
      "1   55852  A13NJZ1M018A7C  1482594129\n",
      "2   28875  A3RINEQ4GDTR55  144235948X\n",
      "3   94134  A1W5758V90WQKZ  B008O0QUU2\n",
      "4   31501  A243FA8XGHI63J  1455574880\n",
      "5  105499  A1O5BMIWBH4OG2  B00IPL4AR0\n",
      "6  108116  A2KIJZOJT6AA1N  B00KTI9R6Q\n",
      "7  101798  A16W8YQN1YFMN2  B00GKKU0OK\n",
      "8   99199   AFC97KDPMJHXG  B00EA45DUO\n",
      "9   11393  A2H08Q7AT8HV86  061577041X\n",
      "-----------\n",
      "Number of Users: 1490\n",
      "Number of ASINs: 1186\n",
      "-----------\n",
      "Shape of Training Data (81472, 4)\n",
      "Shape of Test Features Data (27158, 3)\n",
      "Shape of Train Data (61104, 4)\n",
      "Shape of Validation Data (20368, 4)\n"
     ]
    }
   ],
   "source": [
    "# Import the datasets\n",
    "training = pd.read_csv(\n",
    "    \"../../data/MATH_Final_Project_Data_training.csv\",\n",
    "    dtype={\"User\": str, \"ASIN\": str, \"Rating\": np.int},\n",
    ")\n",
    "test_features = pd.read_csv(\n",
    "    \"../../data/MATH_Final_Project_Data_test_features.csv\",\n",
    "    dtype={\"User\": str, \"ASIN\": str},\n",
    ")\n",
    "\n",
    "print(\"-----------\")\n",
    "print(\"Sample Training Data\")\n",
    "print(\"-----------\")\n",
    "print(training.head(10))\n",
    "\n",
    "print(\"-----------\")\n",
    "print(\"Sample Test Data\")\n",
    "print(\"-----------\")\n",
    "print(test_features.head(10))\n",
    "\n",
    "# Count number of unique users and number of unique ASINs in our dataset\n",
    "uniqueUsers = training[\"User\"].unique().tolist()\n",
    "uniqueASINs = training[\"ASIN\"].unique().tolist()\n",
    "\n",
    "# If using pandas.pivot(), beware that it sorts uniqueUsers and uniqueASINs by default\n",
    "uniqueUsers.sort()  # Sort, to avoid index matching errors later on\n",
    "uniqueASINs.sort()  # Sort, to avoid index matching errors later on\n",
    "\n",
    "numUser = len(uniqueUsers)\n",
    "numASIN = len(uniqueASINs)\n",
    "\n",
    "print(\"-----------\")\n",
    "print(f\"Number of Users: {numUser}\")\n",
    "print(f\"Number of ASINs: {numASIN}\")\n",
    "print(\"-----------\")\n",
    "\n",
    "# Split to train and validation\n",
    "train, val = train_test_split(training, random_state=42, stratify=training[\"ASIN\"])\n",
    "num_train = train.shape[0]\n",
    "num_val = val.shape[0]\n",
    "\n",
    "print(\"Shape of Training Data\", training.shape)\n",
    "print(\"Shape of Test Features Data\", test_features.shape)\n",
    "print(\"Shape of Train Data\", train.shape)\n",
    "print(\"Shape of Validation Data\", val.shape)"
   ]
  },
  {
   "cell_type": "markdown",
   "metadata": {},
   "source": [
    "##  <a name=\"1\">1 Basic Data Visualization</a> \n",
    "(<a href=\"#0\">Go to top</a>)\n",
    "\n",
    "Let's dig in and start to do some data visualization.  When working with real-world data, it is always important to try to understand what bizarre little issues it has.  We've removed many of these for you, but all the same we should do at least a tiny exercise in data visualization so we can see some features of our data.\n",
    "\n",
    "In a real world setting, data collected from feedbacks like user ratings can be very sparse and data points are mostly collected from very popular items (books) and highly engaged users. Large amount of less known items (books) don’t have ratings at all. Let’s see some plots on the distribution of books ratings frequency, to have a __better idea of the data we have__, and ponder whether is enough (and good enough) for a recommender model.\n",
    "\n",
    "\n",
    "###  Project Question 1\n",
    "\n",
    "> Use [MatPlotLib](https://matplotlib.org/) to make the following two plots: the [histogram](https://matplotlib.org/api/_as_gen/matplotlib.pyplot.hist.html) of the number of reviews a user gives, and a [scatter plot](https://matplotlib.org/api/_as_gen/matplotlib.pyplot.scatter.html) of the average rating of an ASIN versus the number of ratings that ASIN received.  It is good pratice to not touch the testing data during model development, so make these plots only on the train data.\n",
    "\n",
    "It is helpful to know you can use things like ```.groupby([feature1][feature2].count())``` or ```.groupby([feature1][feature2].mean())``` to help with grabbing the data for the desired plots."
   ]
  },
  {
   "cell_type": "code",
   "execution_count": 122,
   "metadata": {},
   "outputs": [
    {
     "data": {
      "text/html": [
       "<div>\n",
       "<style scoped>\n",
       "    .dataframe tbody tr th:only-of-type {\n",
       "        vertical-align: middle;\n",
       "    }\n",
       "\n",
       "    .dataframe tbody tr th {\n",
       "        vertical-align: top;\n",
       "    }\n",
       "\n",
       "    .dataframe thead th {\n",
       "        text-align: right;\n",
       "    }\n",
       "</style>\n",
       "<table border=\"1\" class=\"dataframe\">\n",
       "  <thead>\n",
       "    <tr style=\"text-align: right;\">\n",
       "      <th></th>\n",
       "      <th>ID</th>\n",
       "      <th>User</th>\n",
       "      <th>ASIN</th>\n",
       "      <th>Rating</th>\n",
       "    </tr>\n",
       "  </thead>\n",
       "  <tbody>\n",
       "    <tr>\n",
       "      <th>22847</th>\n",
       "      <td>47124</td>\n",
       "      <td>AASBXWIU1N3O4</td>\n",
       "      <td>1477817506</td>\n",
       "      <td>5</td>\n",
       "    </tr>\n",
       "    <tr>\n",
       "      <th>48428</th>\n",
       "      <td>95883</td>\n",
       "      <td>A3LE1SYMBPF9S4</td>\n",
       "      <td>B00BOTU4JI</td>\n",
       "      <td>5</td>\n",
       "    </tr>\n",
       "    <tr>\n",
       "      <th>30745</th>\n",
       "      <td>63773</td>\n",
       "      <td>A11SS5439VMJLA</td>\n",
       "      <td>1489528865</td>\n",
       "      <td>4</td>\n",
       "    </tr>\n",
       "    <tr>\n",
       "      <th>5949</th>\n",
       "      <td>99532</td>\n",
       "      <td>A3KM84RAZA7XXC</td>\n",
       "      <td>B00EGJ334Q</td>\n",
       "      <td>4</td>\n",
       "    </tr>\n",
       "    <tr>\n",
       "      <th>53082</th>\n",
       "      <td>62789</td>\n",
       "      <td>A1I5KY3AZHDNQQ</td>\n",
       "      <td>1484968042</td>\n",
       "      <td>5</td>\n",
       "    </tr>\n",
       "  </tbody>\n",
       "</table>\n",
       "</div>"
      ],
      "text/plain": [
       "          ID            User        ASIN  Rating\n",
       "22847  47124   AASBXWIU1N3O4  1477817506       5\n",
       "48428  95883  A3LE1SYMBPF9S4  B00BOTU4JI       5\n",
       "30745  63773  A11SS5439VMJLA  1489528865       4\n",
       "5949   99532  A3KM84RAZA7XXC  B00EGJ334Q       4\n",
       "53082  62789  A1I5KY3AZHDNQQ  1484968042       5"
      ]
     },
     "execution_count": 122,
     "metadata": {},
     "output_type": "execute_result"
    }
   ],
   "source": [
    "train.head()"
   ]
  },
  {
   "cell_type": "code",
   "execution_count": 128,
   "metadata": {},
   "outputs": [
    {
     "data": {
      "image/png": "[encoded data removed]",
      "text/plain": [
       "<Figure size 360x360 with 1 Axes>"
      ]
     },
     "metadata": {
      "needs_background": "light"
     },
     "output_type": "display_data"
    },
    {
     "name": "stdout",
     "output_type": "stream",
     "text": [
      "--------------------------------------------------------------------------------------------------------------\n"
     ]
    },
    {
     "data": {
      "image/png": "[encoded data removed]",
      "text/plain": [
       "<Figure size 360x360 with 1 Axes>"
      ]
     },
     "metadata": {
      "needs_background": "light"
     },
     "output_type": "display_data"
    },
    {
     "name": "stdout",
     "output_type": "stream",
     "text": [
      "--------------------------------------------------------------------------------------------------------------\n"
     ]
    },
    {
     "data": {
      "image/png": "[encoded data removed]",
      "text/plain": [
       "<Figure size 360x360 with 1 Axes>"
      ]
     },
     "metadata": {
      "needs_background": "light"
     },
     "output_type": "display_data"
    }
   ],
   "source": [
    "### Implement Code for Project Question 1 here ###\n",
    "##################################################\n",
    "x = train['Rating']\n",
    "\n",
    "plt.figure(figsize=(5,5))\n",
    "\n",
    "plt.hist(x)\n",
    "plt.ylabel('Distribution')\n",
    "plt.xlabel('Rating')\n",
    "plt.title('Rating distribution')\n",
    "plt.show()\n",
    "\n",
    "print('--------------------------------------------------------------------------------------------------------------')\n",
    "\n",
    "reviews_df = train.groupby(by='User').size().reset_index(name='Review_Count')\n",
    "\n",
    "x = reviews_df['Review_Count']\n",
    "n_bins = 100\n",
    "\n",
    "plt.figure(figsize=(5,5))\n",
    "\n",
    "plt.hist(x,n_bins)\n",
    "plt.ylabel('Count')\n",
    "plt.xlabel('Number of Reviews per User')\n",
    "plt.title('Number of reviews per User')\n",
    "plt.show()\n",
    "\n",
    "print('--------------------------------------------------------------------------------------------------------------')\n",
    "\n",
    "scatter = train.groupby(by='ASIN')['Rating'].agg({'mean','count'}).reset_index()\n",
    "scatter.set_index('ASIN')\n",
    "\n",
    "x = scatter['mean']\n",
    "y = scatter['count']\n",
    "label = scatter.index.values\n",
    "\n",
    "plt.figure(figsize=(5,5))\n",
    "plt.scatter(x,y)\n",
    "plt.xlabel('Mean Rating')\n",
    "plt.ylabel('Count Rating')\n",
    "plt.title('Scatter plot')\n",
    "plt.show()"
   ]
  },
  {
   "cell_type": "code",
   "execution_count": 129,
   "metadata": {},
   "outputs": [
    {
     "data": {
      "text/html": [
       "<div>\n",
       "<style scoped>\n",
       "    .dataframe tbody tr th:only-of-type {\n",
       "        vertical-align: middle;\n",
       "    }\n",
       "\n",
       "    .dataframe tbody tr th {\n",
       "        vertical-align: top;\n",
       "    }\n",
       "\n",
       "    .dataframe thead th {\n",
       "        text-align: right;\n",
       "    }\n",
       "</style>\n",
       "<table border=\"1\" class=\"dataframe\">\n",
       "  <thead>\n",
       "    <tr style=\"text-align: right;\">\n",
       "      <th></th>\n",
       "      <th>ASIN</th>\n",
       "      <th>count</th>\n",
       "      <th>mean</th>\n",
       "    </tr>\n",
       "  </thead>\n",
       "  <tbody>\n",
       "    <tr>\n",
       "      <th>0</th>\n",
       "      <td>0007442920</td>\n",
       "      <td>24</td>\n",
       "      <td>4.333333</td>\n",
       "    </tr>\n",
       "    <tr>\n",
       "      <th>1</th>\n",
       "      <td>0062267159</td>\n",
       "      <td>50</td>\n",
       "      <td>4.580000</td>\n",
       "    </tr>\n",
       "    <tr>\n",
       "      <th>2</th>\n",
       "      <td>0062267175</td>\n",
       "      <td>52</td>\n",
       "      <td>4.538462</td>\n",
       "    </tr>\n",
       "    <tr>\n",
       "      <th>3</th>\n",
       "      <td>006226768X</td>\n",
       "      <td>113</td>\n",
       "      <td>4.389381</td>\n",
       "    </tr>\n",
       "    <tr>\n",
       "      <th>4</th>\n",
       "      <td>0062267728</td>\n",
       "      <td>56</td>\n",
       "      <td>4.464286</td>\n",
       "    </tr>\n",
       "    <tr>\n",
       "      <th>...</th>\n",
       "      <td>...</td>\n",
       "      <td>...</td>\n",
       "      <td>...</td>\n",
       "    </tr>\n",
       "    <tr>\n",
       "      <th>1181</th>\n",
       "      <td>B00L9HIR4E</td>\n",
       "      <td>59</td>\n",
       "      <td>4.610169</td>\n",
       "    </tr>\n",
       "    <tr>\n",
       "      <th>1182</th>\n",
       "      <td>B00LD6IYUS</td>\n",
       "      <td>28</td>\n",
       "      <td>4.571429</td>\n",
       "    </tr>\n",
       "    <tr>\n",
       "      <th>1183</th>\n",
       "      <td>B00LD8K0KI</td>\n",
       "      <td>24</td>\n",
       "      <td>4.791667</td>\n",
       "    </tr>\n",
       "    <tr>\n",
       "      <th>1184</th>\n",
       "      <td>B00LDD8NDO</td>\n",
       "      <td>39</td>\n",
       "      <td>4.641026</td>\n",
       "    </tr>\n",
       "    <tr>\n",
       "      <th>1185</th>\n",
       "      <td>B00LLWDUDK</td>\n",
       "      <td>45</td>\n",
       "      <td>4.844444</td>\n",
       "    </tr>\n",
       "  </tbody>\n",
       "</table>\n",
       "<p>1186 rows × 3 columns</p>\n",
       "</div>"
      ],
      "text/plain": [
       "            ASIN  count      mean\n",
       "0     0007442920     24  4.333333\n",
       "1     0062267159     50  4.580000\n",
       "2     0062267175     52  4.538462\n",
       "3     006226768X    113  4.389381\n",
       "4     0062267728     56  4.464286\n",
       "...          ...    ...       ...\n",
       "1181  B00L9HIR4E     59  4.610169\n",
       "1182  B00LD6IYUS     28  4.571429\n",
       "1183  B00LD8K0KI     24  4.791667\n",
       "1184  B00LDD8NDO     39  4.641026\n",
       "1185  B00LLWDUDK     45  4.844444\n",
       "\n",
       "[1186 rows x 3 columns]"
      ]
     },
     "execution_count": 129,
     "metadata": {},
     "output_type": "execute_result"
    }
   ],
   "source": [
    "scatter"
   ]
  },
  {
   "cell_type": "code",
   "execution_count": 130,
   "metadata": {},
   "outputs": [
    {
     "data": {
      "text/html": [
       "<div>\n",
       "<style scoped>\n",
       "    .dataframe tbody tr th:only-of-type {\n",
       "        vertical-align: middle;\n",
       "    }\n",
       "\n",
       "    .dataframe tbody tr th {\n",
       "        vertical-align: top;\n",
       "    }\n",
       "\n",
       "    .dataframe thead th {\n",
       "        text-align: right;\n",
       "    }\n",
       "</style>\n",
       "<table border=\"1\" class=\"dataframe\">\n",
       "  <thead>\n",
       "    <tr style=\"text-align: right;\">\n",
       "      <th></th>\n",
       "      <th>ASIN</th>\n",
       "      <th>count</th>\n",
       "      <th>mean</th>\n",
       "    </tr>\n",
       "  </thead>\n",
       "  <tbody>\n",
       "    <tr>\n",
       "      <th>0</th>\n",
       "      <td>0007442920</td>\n",
       "      <td>24</td>\n",
       "      <td>4.333333</td>\n",
       "    </tr>\n",
       "    <tr>\n",
       "      <th>1</th>\n",
       "      <td>0062267159</td>\n",
       "      <td>50</td>\n",
       "      <td>4.580000</td>\n",
       "    </tr>\n",
       "    <tr>\n",
       "      <th>2</th>\n",
       "      <td>0062267175</td>\n",
       "      <td>52</td>\n",
       "      <td>4.538462</td>\n",
       "    </tr>\n",
       "    <tr>\n",
       "      <th>3</th>\n",
       "      <td>006226768X</td>\n",
       "      <td>113</td>\n",
       "      <td>4.389381</td>\n",
       "    </tr>\n",
       "    <tr>\n",
       "      <th>4</th>\n",
       "      <td>0062267728</td>\n",
       "      <td>56</td>\n",
       "      <td>4.464286</td>\n",
       "    </tr>\n",
       "    <tr>\n",
       "      <th>...</th>\n",
       "      <td>...</td>\n",
       "      <td>...</td>\n",
       "      <td>...</td>\n",
       "    </tr>\n",
       "    <tr>\n",
       "      <th>1181</th>\n",
       "      <td>B00L9HIR4E</td>\n",
       "      <td>59</td>\n",
       "      <td>4.610169</td>\n",
       "    </tr>\n",
       "    <tr>\n",
       "      <th>1182</th>\n",
       "      <td>B00LD6IYUS</td>\n",
       "      <td>28</td>\n",
       "      <td>4.571429</td>\n",
       "    </tr>\n",
       "    <tr>\n",
       "      <th>1183</th>\n",
       "      <td>B00LD8K0KI</td>\n",
       "      <td>24</td>\n",
       "      <td>4.791667</td>\n",
       "    </tr>\n",
       "    <tr>\n",
       "      <th>1184</th>\n",
       "      <td>B00LDD8NDO</td>\n",
       "      <td>39</td>\n",
       "      <td>4.641026</td>\n",
       "    </tr>\n",
       "    <tr>\n",
       "      <th>1185</th>\n",
       "      <td>B00LLWDUDK</td>\n",
       "      <td>45</td>\n",
       "      <td>4.844444</td>\n",
       "    </tr>\n",
       "  </tbody>\n",
       "</table>\n",
       "<p>1186 rows × 3 columns</p>\n",
       "</div>"
      ],
      "text/plain": [
       "            ASIN  count      mean\n",
       "0     0007442920     24  4.333333\n",
       "1     0062267159     50  4.580000\n",
       "2     0062267175     52  4.538462\n",
       "3     006226768X    113  4.389381\n",
       "4     0062267728     56  4.464286\n",
       "...          ...    ...       ...\n",
       "1181  B00L9HIR4E     59  4.610169\n",
       "1182  B00LD6IYUS     28  4.571429\n",
       "1183  B00LD8K0KI     24  4.791667\n",
       "1184  B00LDD8NDO     39  4.641026\n",
       "1185  B00LLWDUDK     45  4.844444\n",
       "\n",
       "[1186 rows x 3 columns]"
      ]
     },
     "execution_count": 130,
     "metadata": {},
     "output_type": "execute_result"
    }
   ],
   "source": [
    "scatter"
   ]
  },
  {
   "cell_type": "markdown",
   "metadata": {},
   "source": [
    "##  <a name=\"2\">2 Data Vectorization</a> \n",
    "(<a href=\"#0\">Go to top</a>)\n",
    "\n",
    "Now that we agree we have enough (and good enough) data for a recommender system, we start thinking and planning to build a machine learning model to solve the problem. But, wait, if you go up and look again at the samples from our datasets we printed when we imported them, you'll notice the data it is not a vector or matrix exactly.  Various columns are strings rather than numbers, and even if we solved that (say by creating a unique ID number for every ASIN and user) it would still be in a very strange format.  __Deciding how to represent your data is a major first step in any ML problem, and in this case it is a bit subtle.__  \n",
    "\n",
    "So, first, we need to transform the dataframe of ratings into a proper format that can be consumed by a machine learning model, with a recommender system in mind! We might, in fact, __want the data to be in an $n\\times m$ matrix format__, where $n$ is the number of users and $m$ is the number of ASINs. \n",
    "\n",
    "We can thus think of our data as a score matrix $S = \\left(s_{i,j}\\right)$ which is a $n\\times m$ matrix where\n",
    "$$\n",
    "s_{i,j} = \\begin{cases}\n",
    "s & \\text{if the rating by user $i$ to ASIN $j$ was $s$ stars,}\\\\\n",
    "0 & \\text{otherwise,}\n",
    "\\end{cases}\n",
    "$$\n",
    "where $n$ is the number of users and $m$ is the number of ASINs.\n",
    "\n",
    "As we might notice, our data is extremely sparse, that's to say with many zero elements. That makes sense, after examining the plots from Question 1. Our data is only partially observed, which is to say each user only rated a small number of ASINs. We will also need another matrix, the matrix of which ASINs were rated. \n",
    "\n",
    "Let $R = \\left(r_{i,j}\\right)$ be the matrix where\n",
    "$$\n",
    "r_{i,j} = \\begin{cases}\n",
    "1 & \\text{if user $i$ rated ASIN $j$,}\\\\\n",
    "0 & \\text{otherwise.}\n",
    "\\end{cases}\n",
    "$$\n",
    "This matrix will allow us to mask off which entries were observed or not.\n",
    "\n",
    "These matrices will form the core of the work we do in all future weeks, so it is a good idea to make them (create them, define them, put them together) now.\n",
    "\n",
    "\n",
    "### Project Question 2\n",
    "> Write code to translate our Pandas DataFrames into two numpy matrices.  You'll want to do it for both the train and validation data, so you will end up with four matrices ```R_train```, ```S_train```, ```R_val```, and ```S_val```. Print all four matrices and examine their elements - should be many values of zero!\n",
    "\n",
    "It is helpful to know that other than defining the matrices with for loops or list comprehensions, you can also reshape the dataframes of ratings, by pivoting the dataframes to the desired format with users as rows and ASINs as columns.\n"
   ]
  },
  {
   "cell_type": "code",
   "execution_count": 131,
   "metadata": {},
   "outputs": [
    {
     "name": "stdout",
     "output_type": "stream",
     "text": [
      "Number of Unique User in Train dataset: 1490\n",
      "Number of Unique ASIN in Train dataset: 1186\n",
      "-----------------\n",
      "S_train shape: (1490, 1186)\n",
      "R_train shape: (1490, 1186)\n",
      "S_val shape: (1490, 1186)\n",
      "R_val shape: (1490, 1186)\n"
     ]
    }
   ],
   "source": [
    "### Implement Code for Project Question 2 here ###\n",
    "##################################################\n",
    "print(f\"Number of Unique User in Train dataset: {len(train['User'].unique())}\")\n",
    "print(f\"Number of Unique ASIN in Train dataset: {len(train['ASIN'].unique())}\")\n",
    "print('-----------------')\n",
    "\n",
    "columns=['User','ASIN','Rating']\n",
    "\n",
    "def vectorize_S(df):\n",
    "    return df.pivot(index='User',columns='ASIN',values='Rating').fillna(0).to_numpy()\n",
    "#Alternative solution to pivot : df.groupby(['User','ASIN'])['Rating'].sum().unstack() \n",
    "\n",
    "def vectorize_R(df):\n",
    "    temp = df.pivot(index='User',columns='ASIN',values='Rating').isna()\n",
    "    #Alternative solution to pivot : df.pivot(index='User',columns='ASIN',values='Rating').isna()\n",
    "    return temp.applymap(lambda x : 0 if x == True else 1).to_numpy()\n",
    "\n",
    "S_train, S_val = map(vectorize_S,(train,val))\n",
    "R_train, R_val = map(vectorize_R,(train,val))\n",
    "\n",
    "\n",
    "print(f\"S_train shape: {S_train.shape}\")\n",
    "print(f\"R_train shape: {R_train.shape}\")\n",
    "print(f\"S_val shape: {S_val.shape}\")\n",
    "print(f\"R_val shape: {R_val.shape}\")"
   ]
  },
  {
   "cell_type": "code",
   "execution_count": 132,
   "metadata": {},
   "outputs": [
    {
     "data": {
      "text/plain": [
       "array([[0., 0., 0., ..., 0., 0., 0.],\n",
       "       [0., 0., 0., ..., 0., 0., 0.],\n",
       "       [0., 0., 0., ..., 5., 0., 0.],\n",
       "       ...,\n",
       "       [0., 0., 0., ..., 0., 0., 0.],\n",
       "       [0., 0., 0., ..., 0., 0., 0.],\n",
       "       [0., 0., 0., ..., 0., 0., 0.]])"
      ]
     },
     "execution_count": 132,
     "metadata": {},
     "output_type": "execute_result"
    }
   ],
   "source": [
    "S_train"
   ]
  },
  {
   "cell_type": "markdown",
   "metadata": {},
   "source": [
    "##  <a name=\"3\">3 Model Definition</a> \n",
    "(<a href=\"#0\">Go to top</a>)\n",
    "\n",
    "To better understand how to approach thinking about and building a recommender system, at least by [collaborative filtering](https://en.wikipedia.org/wiki/Collaborative_filtering#), it helps to print and examine the ```S_train```. You'll notice the zero entries. In order to define the model we will be working with, we need to have some way of making predictions  for the unfilled entries - that's the recommender system at the end of the day!  \n",
    "\n",
    "Our goal with this project is to be able to construct a prediction matrix $P = (p_{i,j})$ which fills in all the missing scores where $r_{i,j} = 0$.  If we assumed nothing about how the matrix $P$ is constructed, we would have no basis to build a prediction.  We will need to assume P was generated from some process that has more structure than just an arbitrary matrix.\n",
    "\n",
    "Let's ponder on two things. One, as we observed previously, the $S$ matrices have many zeros - that's good in a way, gives us the opportunity to build the recommender system in the first place. However, the matrices are huge, 1490\n",
    "by 1186 (and they could be even bigger in other practical scenarios!). So, well, first we have this __high dimensions__ fact to handle - remember all the computational impediments related to storing, working, and manipulating large matrices even on current high-dimensionality friednly ML frameworks. Reducing dimensions can improve the performance of the algorithm in terms of both storage and time. We discussed matrix factorization as a simple way to build larger matrices from smaller ones - keep that thought for now!\n",
    "\n",
    "Second, we have to start thinking about how are we going to find out how some users ratings or preferences of some ASINs might impact other unexplored users-ASINs preferences or ratings. We have to somehow find a way to connect users-ASINs-ratings in a meaningful way (well, __mathematically meaningful__ at least) to extract __underlying links__ that might exist between users-ASINs to explain their corresponding ratings, and leverage these __uncovered links__ to predict other users-ASINs interactions. Speaking of matrix factorization, or rather matrix multiplication, two matrices can be multiplied only if the number of columns in the first column is equal to the number of rows in the second matrix. Therefore the two reduced matrices have a common dimension, somehow hidden or covered dimension if you so wish, that we don't really see it in the final matrix product, but it had to be there in order to be able to compute the product to begin with. We thus turn to matrix factorization again - this is the solution to both our problems: reduce the dimensionality of our modeling approach, and actually building a relevant/appropriate model for a recommender system!\n",
    "\n",
    "#### Matrix Factorization\n",
    "\n",
    "Thus, we will make use of matrix multiplication to say that our prediction matrix should be the __product of two other matrices__. Basically, decomposing the users-ASINs interactions matrix into the product of two lower dimensionality rectangular matrices. These matrices actually represent the users and ASINs individually. The first matrix can be seen as the _users matrix_, where rows represent the users, and columns are telling us about some of users' affinities for ASINs - let's call it the *affinities* matrix $A$. The second matrix can be seen as the _ASINs matrix_, where rows tell us about the features ASINs have to offer to users, and columns represent the ASINs - let's call it the *features* matrix $F$. \n",
    "\n",
    "The columns in the users *affinities* matrix $A$ and the rows in the ASINs *features* matrix $F$ are called *latent factors* and are an indication of hidden characteristics about the users or the ASINs, patterns in the data that could lead to more personalized the recommendations. The number of such latent factors can be anything from one to hundreds. This number is one of the things that need to be optimized during the training of the model. \n",
    "\n",
    "The idea we will use is the following:  to each ASIN $j$ we will associate $k$ features $(f_{\\ell,j})_{\\ell = 1}^k$, and to each user $i$ we will associate $k$ affinities $(a_{i,\\ell})_{\\ell=1}^k$.  These features can be thought of as simple descriptors of the book, like for instance amount of action or romance.  The affinities, can be thought of as providing how much a person likes or dislikes a feature so perhaps $+1$ for action since they like action, and $-0.5$ for romance.\n",
    "\n",
    "__The rating that a user will assign to a ASIN will be taken as a sum over all the features of their affinities for that feature times that ASIN's features.__\n",
    "\n",
    "As a matter of useful terminology, in the world of ML, a *parameter* is a number that needs to be fixed in order to specify a model completely.  For instance, in this case every affinity and every feature must be specified for our model to be able to make predictions.  So if every user has two features, and every ASIN has two features, the total number of parameters is:\n",
    "$$\n",
    "\\#\\text{Parameters} = 2\\cdot\\#\\text{User} + 2 \\cdot\\#\\text{ASIN}.\n",
    "$$\n",
    "\n",
    "As a general rule of thumb, the more parameters you have, the more data you need to fit your model (an old statistics rule stated you need about 10 data points for each parameter).  There are exceptions to this (particularly in deep learning), but it is always a good idea to keep the number of parameters always in mind.\n",
    "\n",
    "\n",
    "### Project Question 3\n",
    "> Express the above verbally described model mathematically in matrix notation as a product of the matrices of features and affinities.  What are the dimensions of the matrices involved?  How many parameters are there in this model?  How does the number of parameters compare to the number of entries of $P$?\n",
    "\n",
    "> Complete this question in abstract matrices shapes (in terms of $m,n,$ and $k$), and then say what this means for our dataset, in particular with $k=2$, in comparison to the total number of entries in $P$.  \n"
   ]
  },
  {
   "cell_type": "markdown",
   "metadata": {},
   "source": [
    "############################################################################\n",
    "### This is a Markdown cell - Type Answer for Project Question 3 here ###\n",
    "############################################################################\n",
    "\n",
    "The Prediction matrix is composed of the product of affinity matrix A and features matric F, as per:\n",
    "\n",
    "$$\n",
    "P = A\\cdot\\text{F}\n",
    "$$\n",
    "\n",
    "where \n",
    "$$\n",
    "A_{m,k} = \\begin{cases}\n",
    "m & \\text{m is the number of users}\\\\\n",
    "k & \\text{k is the parameters (in this case k=2)}\n",
    "\\end{cases}\n",
    "$$\n",
    "\n",
    "and \n",
    "$$\n",
    "F_{k,n} = \\begin{cases}\n",
    "k & \\text{k is the parameters (in this case k=2)}\\\\\n",
    "n & \\text{n is the number of ASIN}\n",
    "\\end{cases}\n",
    "$$\n",
    "\n",
    "In total we have 4 parameters in this model. Where P has over 1.7Mio entries, the two factored matrices only have a combined entries of 5k.\n",
    "\n",
    "############################################################################\n"
   ]
  },
  {
   "cell_type": "markdown",
   "metadata": {},
   "source": [
    "##  <a name=\"4\">4 Baseline Model</a> \n",
    "(<a href=\"#0\">Go to top</a>)\n",
    "\n",
    "In your computation above, you should have seen that the total number of parameters is vastly smaller than the total number of entries in the matrix $P$.  This is a key component of the model: because we need to only find the value for a comparatively small number of parameters to specify all of $P$, we will force our model to hunt for structure in the observations rather than just memorize scores.\n",
    "\n",
    "Let's consider a simple example of this type of model.  Set $k=1$.  Pick the single feature as the average star rating a book received, and everyone has affinity of $+1$ for that feature.  When you do the product of $P=AF$, note that this means that it predicts every single user gives the same rating to the ASIN, and that rating is the average value.  Throughout this document, we will refer to this as the __baseline model__.  It will give us a simple benchmark against which to measure our progress.\n",
    "\n",
    "We will dive deeper into why with next questions, but it is reasonable to evaluate these predictions by computing the average squared difference between the predictions and the true values in the *test* set, where the test set can be any set we would like to test our model against (the train or the validation set, for example):\n",
    "\n",
    "$$\n",
    "{\\frac{1}{\\#\\text{Test data points}}\\sum_{\\text{Test data}}(\\text{prediction} - \\text{true test observation})^2}\n",
    "$$\n",
    "\n",
    "This is called the mean squared error (or MSE for short). MSE has the same issue the variance has that we mentioned in class for the variance (that the units are uninterpretable), so traditionally we use the Root Mean Square (RMS) error which can be thought of how far our predictions are off on average and is obtained by taking the square root of the MSE:\n",
    "\n",
    "$$\n",
    "\\sqrt{{\\frac{1}{\\#\\text{Test data points}}\\sum_{\\text{Test data}}(\\text{prediction} - \\text{true test observation})^2}}.\n",
    "$$\n",
    "\n",
    "\n",
    "### Project Question 4\n",
    "> Write code to compute the vector of average ASIN scores from the training set as our single feature.  Construct a vector of all ones ([np.ones](https://docs.scipy.org/doc/numpy/reference/generated/numpy.ones.html) will do this for you) for your vector of affinities, and then use these two vectors to create a (baseline) matrix of predictions $P$. Print the matrix $P$ and examine its elements. How does it compare to the validation matrix $S$? Compute the MSE and the RMS on the validation set. How far off are we on average if we use this simple method for prediction?\n",
    "\n",
    "For ease of implementation, note that RMS is the same as\n",
    "\n",
    "$$\n",
    "RMS = \\frac{1}{\\sqrt{\\text{Test data points}}}\\|R\\circ(S-P)\\|_2\n",
    "$$\n",
    "\n",
    "where we have use $R$ to mask off only the observed test entries, and the fact that the $L_2$ norm is nothing but the square root of the sum of the squares of entries. Using matrix products (implemented with ```np.dot(A, B)```, the Hadamard product (implemented with ```np.multiply(A, B)``` or ```A*B```), and ```np.linalg.norm```, computing this is a single line long."
   ]
  },
  {
   "cell_type": "code",
   "execution_count": 133,
   "metadata": {},
   "outputs": [
    {
     "name": "stdout",
     "output_type": "stream",
     "text": [
      "Vector A (affinity) shape: (1490, 1) \n",
      "\n",
      "Vector F (features) shape: (1, 1186) \n",
      "\n",
      "Prediction matrix P shape: (1490, 1186) \n",
      "\n",
      "------------------------------------------\n",
      "Baseline Model MSE - Train: 0.5705396411584519\n",
      "Baseline Model RMSE - Train: 0.7553407450670537 \n",
      "\n",
      "Baseline Model MSE - Val: 0.5920449825075444\n",
      "Baseline Model RMSE - Val: 0.7694445935267493 \n",
      "\n"
     ]
    }
   ],
   "source": [
    "### Implement Code for Project Question 4 here ###\n",
    "##################################################\n",
    "\n",
    "A = np.ones((S_train.shape[0],1))\n",
    "print(f'Vector A (affinity) shape: {A.shape} \\n')\n",
    "\n",
    "F = np.ma.masked_where(R_train==0,S_train).mean(axis=0).data\n",
    "#F = np.zeros(train.groupby(['ASIN'])['Rating'].mean().values\n",
    "F = np.reshape(F,(1,-1))\n",
    "print(f'Vector F (features) shape: {F.shape} \\n') \n",
    "\n",
    "P = np.dot(A,F)\n",
    "print(f'Prediction matrix P shape: {P.shape} \\n')\n",
    "\n",
    "print('------------------------------------------')\n",
    "\n",
    "def MSE(P, S, R):\n",
    "    n = R.sum()\n",
    "    return (np.linalg.norm(R*(P - S)))**2/float(n)\n",
    "\n",
    "print(f'Baseline Model MSE - Train: {MSE(P,S_train,R_train)}')\n",
    "print(f'Baseline Model RMSE - Train: {math.sqrt(MSE(P,S_train,R_train))} \\n')\n",
    "\n",
    "print(f'Baseline Model MSE - Val: {MSE(P,S_val,R_val)}')\n",
    "print(f'Baseline Model RMSE - Val: {math.sqrt(MSE(P,S_val,R_val))} \\n')"
   ]
  },
  {
   "cell_type": "code",
   "execution_count": 134,
   "metadata": {},
   "outputs": [],
   "source": [
    "MM = np.ma.masked_where(R_train==0,S_train).mean(axis=0).data"
   ]
  },
  {
   "cell_type": "code",
   "execution_count": 135,
   "metadata": {},
   "outputs": [
    {
     "data": {
      "image/png": "[encoded data removed]",
      "text/plain": [
       "<Figure size 432x288 with 1 Axes>"
      ]
     },
     "metadata": {
      "needs_background": "light"
     },
     "output_type": "display_data"
    },
    {
     "name": "stdout",
     "output_type": "stream",
     "text": [
      "4.466479797682263\n",
      "0.23713806716045607\n"
     ]
    }
   ],
   "source": [
    "plt.hist(list(MM),density=True)\n",
    "plt.show()\n",
    "\n",
    "print(np.mean(MM))\n",
    "print(np.std(MM))"
   ]
  },
  {
   "cell_type": "markdown",
   "metadata": {},
   "source": [
    "##  <a name=\"5\">5 Model Likelihood</a> \n",
    "(<a href=\"#0\">Go to top</a>)\n",
    "\n",
    "\n",
    "#### Propose a model to capture the underlying relationship in the dataset  \n",
    "\n",
    "Our next investigations will be entirely theoretical and will contain no coding. We need to see how to bring randomness into the model that we defined.  The model we proposed so far was completely deterministic, we basically gave that our predictions are given by the product $P=AF$.  There was no allowance for error, and we need to fix that.\n",
    "\n",
    "We originally specified that we wanted our scores to be obtained as $AF$.  Unless the universe follows our model exactly (that there are truly just $k$ numbers that determine how much a person likes a book and the person assigns that score every single time without fail) we will not have that $S = AF$.  Instead, we will have that $S$ looks like $P=AF$ plus some __independent random noise__, where that random noise is designed to capture all the inaccuracies in our model (that there are many features that determine how much a person will like a book, and that there can be random fluctuation in the rating given depending on things unrelated to the book at all).\n",
    "\n",
    "We will do this by saying that $S \\sim P + \\mathcal{N}(0,\\sigma^2)$ where we choose to model our noise as independent additive Gaussian noise.  The way to read this is that every rating we observed $s_{i,j}$ is distributed as a our prediction $p_{i,j}$ plus independent mean zero Gaussian noise of unknown variance for every observation.  Since adding a constant to a Gaussian just shifts the mean, we could also say that $s_{i,j}\\sim\\mathcal{N}(p_{i,j},\\sigma^2)$.  The scale of the noise, $\\sigma^2$, is now an additional parameter of our model.\n",
    "\n",
    "\n",
    "#### Compute the likelihood that this model generates the data\n",
    "\n",
    "For many __independent observations__, as we assume our ratings are, each with its own Gaussian probability densities as proposed above, the probability to observe all datapoints (all ratings) at the same time is computed by multiplying the individual probabilities together. We can thus compute the probability densities of our observations.  As a matter of terminology, the probability or probability density of obtaining a particular set of data is often called the __likelihood__.\n",
    "\n",
    "\n",
    "### Project Question 5 \n",
    "> Let $N$ be the total number of observed ratings (of the training dataset).  For our model, explain why the likelihood is:\n",
    "\n",
    "$$ \n",
    "\\left(\\frac{1}{\\sqrt{2\\pi\\sigma^2}}\\right)^N e^{-\\frac{1}{2\\sigma^2}\\sum_{N}(s_{i,j} - p_{i,j})^2}. \n",
    "$$\n",
    "\n",
    "> Please write the derivation below.\n",
    "\n",
    "It helps to know that ```\\prod_{}``` in markdown is used to write down product of many things, just like ```\\sum_{}``` in markdown is used to write the sum of many things. Also useful to remember one property of the exponential function: $e^a e^b = e^{a+b}$."
   ]
  },
  {
   "cell_type": "markdown",
   "metadata": {},
   "source": [
    "############################################################################\n",
    "### This is a Markdown cell - Type Answer for Project Question 5 here ###\n",
    "############################################################################\n",
    "\n",
    "The likelihood is the probability of observing the data collected given certain parameters. In our case, we believe that the prediction will be equal to the real value + an error which will be normally distributed. The error is expressed by the loss function and we want to maximize this loss function given a model and its parameters. The formula is the PDF of normal distribution and its parameters is the error of our model: Original Score - Prediction of the Score. By solving the likelihood, we will find out the variance we want to add to out predictions.\n",
    "\n",
    "############################################################################\n"
   ]
  },
  {
   "cell_type": "markdown",
   "metadata": {},
   "source": [
    "##  <a name=\"6\">6 Loss Function</a> \n",
    "(<a href=\"#0\">Go to top</a>)\n",
    "\n",
    "\n",
    "#### Compute the negative log-likelihood (loss function)\n",
    "\n",
    "The key to the whole maximum likelihood estimation process is that we want to find out what values of the model parameters make the data most likely (occur with the highest probability).  Notice that many of the terms above in the likelihood we computed are unrelated to the dataset, such as the term in front of the exponential.  Thus if we want to find the choice of predictions $p_{i,j}$ that maximizes the probability, or the likelihood rather, and we don't care about the value of $\\sigma^2$, we can throw away almost everything above.\n",
    "\n",
    "\n",
    "### Project Question 6\n",
    "> Explain that if you discard all terms that do not involve our data, the $-\\log$-likelihood (the __loss function__) is essentially:\n",
    "\n",
    "$$\n",
    "\\sum_{N}(s_{i,j} - p_{i,j})^2.\n",
    "$$\n",
    "\n",
    "> Then explain why minimizing this is the same thing as minimizing the MSE error, and thus we see that the intuitively reasonable MSE error is the same thing as maximizing the probability of our data.\n",
    "\n",
    "It helps to remember some of the logarithms properties: $\\log(ab) = \\log(a) + \\log(b)$, $\\log(a^N) = N \\log(a)$, and $\\log(e) = 1$. However, the question can be answered even without using negative log, ust need to notice that $e^{-x}$ is a decreasing function."
   ]
  },
  {
   "cell_type": "markdown",
   "metadata": {},
   "source": [
    "############################################################################\n",
    "### This is a Markdown cell - Type Answer for Project Question 6 here ###\n",
    "############################################################################\n",
    "\n",
    "Type your answer here!\n",
    "\n",
    "############################################################################\n"
   ]
  },
  {
   "cell_type": "markdown",
   "metadata": {},
   "source": [
    "##  <a name=\"7\">7 Gradient Descent</a> \n",
    "(<a href=\"#0\">Go to top</a>)\n",
    "\n",
    "\n",
    "#### Find the model that minimizes the loss function\n",
    "\n",
    "We will use a __gradient descent__ implementation to get this done, and consequently __learn the model from the train data__.\n",
    "\n",
    "Note that while we often talked about minimizing the RMS (root mean squared error) because it was more interpretable, we can just as freely optimize the MSE since the square root would just make the math harder.  This freedom is useful: we can think about RMS if we want to interpret what we see, and we can think about the MSE if we want to computationally optimize the model.\n",
    "\n",
    "Now, before diving into a computation let's take a moment and make sure our goals are clear.  We saw that it was reasonable to make our predictions using the product $AF$, since it corresponded to the idea that users have various preferences for various features of each ASIN.  If this was not a ML problem, we'd go through and assign to every ASIN a list of features by hand (perhaps using Mechanical Turk), and then hand code rules like, \"if a person has assigned 5 stars to at least 10 sci-fi books, then they have affinity $+1$ for sci-fi books.\"  This would likely work, but there is a lot of trial and error, and human labor.\n",
    "\n",
    "The ML solution is to essentially work this problem backwards.  We suppose that such features exist, we define a way to evaluate how well a collection of features and affinities works to describe the scores we observe, and then we try to automatically find the best possible set of features and affinities to explain the data we've seen.  Thus, our goal is to find the best possible values for $A$ and $F$ in the sense that they minimize the MSE.\n",
    "\n",
    "We can now finally fully dive in to the implementation of gradient descent for our recommender dataset. Let's summarize what we have so far on our mean squared error loss function that can be written as\n",
    "\n",
    "$$\n",
    "L(A,F) = \\frac{1}{N}\\|R\\circ(S-AF)\\|_2^2,\n",
    "$$\n",
    "\n",
    "where the variables have the following meanings:\n",
    "* $N$ is the number of data points in the dataset used to define $R$ or $S$.  Depending on the reason we are computing this, we could be dealing with either the training or testing data.\n",
    "* $k$, while not contained in the above formula, is the number of features describing each ASIN.\n",
    "* $R$ is the matrix that masks off those entries for which we have a score.\n",
    "* $S$ is the matrix of observed scores.\n",
    "* $A$ are the affinities of the users for various features.\n",
    "* $F$ are the values of those features for all the ASINs.\n",
    "* $AF$ is the matrix product that gives us our predictions for every pair of user and ASIN.\n",
    "\n",
    "To perform our gradient descent, we must first compute the gradient of our mean square errors loss function with respect to the parameters of our model: the entries of $A$ and $F$. While this loss function is still simple enough so we can work with this mathematically to find its derivatives, here we discuss how to approach this with autograd for automate computing the gradients!\n",
    "\n",
    "\n",
    "#### Implementing Gradient Descent with autograd\n",
    "\n",
    "In order to implement gradient descent to solve our problem we need to define a few things:\n",
    "* How do we initialize $A$ and $F$?\n",
    "* What will we take for the number of features/affinities ($k$)?\n",
    "* What will be our learning rate?\n",
    "* When will we stop our optimization?\n",
    "\n",
    "To find the best, we would want to do some *hyperparameter tuning*, which is to say optimization of the choices we make before running our optimization algorithms.  The accelerator classes discuss this at lenght, so we'll just take some values that work fairly well:\n",
    "* Initialize $A$ and $F$ with random real values in the interval $[0,1]$ (```np.random.rand``` will be useful).  \n",
    "* Take the number of features $k=2$. \n",
    "* Take the learning rate to be $25.0$\n",
    "* Stop after $500$ steps.\n",
    "\n",
    "\n",
    "### Project Question 7\n",
    "> Implement the gradient descent algorithm. To monitor learning of your model, plot the MSE error on both the train and validation data as a function of the number of iterations.  How does the final validation loss compare with the value you got using the baseline model from Question 4? \n"
   ]
  },
  {
   "cell_type": "code",
   "execution_count": 379,
   "metadata": {},
   "outputs": [],
   "source": [
    "def Loss_MSE_reg(A, F, S, R, alpha_1,alpha_2):\n",
    "    n = R.sum()\n",
    "    P = torch.matmul(A,F)\n",
    "    P_reg = alpha_1*(P**2) + alpha_2*torch.abs(P) #Elastic Net regularization incl. Ridge and Lasso\n",
    "    return ((((R*(S-P))**2).sum())+P_reg.sum())/float(n)\n",
    "\n",
    "def Loss_MSE(A, F, S, R):\n",
    "    n = R.sum()\n",
    "    P = torch.matmul(A,F)\n",
    "    return (((R*(S-P))**2).sum())/float(n)"
   ]
  },
  {
   "cell_type": "code",
   "execution_count": 380,
   "metadata": {},
   "outputs": [],
   "source": [
    "def grad_descent(A, F, lr, epoch, S, R, alpha_1,alpha_2):\n",
    "    \n",
    "    #Perform Grad Descent\n",
    "    for _ in range(epoch):\n",
    "        loss_train = Loss_MSE_reg(A,F,S,R,alpha_1,alpha_2)\n",
    "        loss_train.sum().backward()\n",
    "        with torch.no_grad():\n",
    "            A -= lr * A.grad\n",
    "            F -= lr * F.grad\n",
    "            #lr *= 0.9\n",
    "            \n",
    "        #set grad back to zero\n",
    "        A.grad.zero_()\n",
    "        F.grad.zero_()\n",
    "        \n",
    "        # collect losses\n",
    "        losses_train.append(loss_train)\n",
    "        losses_val.append(Loss_MSE(A,F,S_val,R_val))"
   ]
  },
  {
   "cell_type": "code",
   "execution_count": 385,
   "metadata": {},
   "outputs": [],
   "source": [
    "### Implement Code for Project Question 7 here ###\n",
    "##################################################\n",
    "\n",
    "#Hyperparameter tuning - k, lr, epoch, initialization A & F\n",
    "k = 1\n",
    "lr = 30\n",
    "epoch = 200\n",
    "alpha_1= 0 #0.000015 | L2 reg\n",
    "alpha_2= 0.0001  #0.0001 | L1 reg\n",
    "\n",
    "# Transform matrices to correct format\n",
    "S_train = torch.tensor(S_train, dtype=torch.float32)\n",
    "R_train = torch.tensor(R_train, dtype=torch.float32)\n",
    "S_val = torch.tensor(S_val, dtype=torch.float32)\n",
    "R_val = torch.tensor(R_val, dtype=torch.float32)\n",
    "\n",
    "# Generate normally distributed latent features\n",
    "torch.manual_seed(1)\n",
    "\n",
    "A = torch.normal(0, 1, size=(1490,k), requires_grad=True)\n",
    "F = torch.normal(0, 1, size=(k,1186), requires_grad=True)\n",
    "\n",
    "# weight initialization: W = c/sqrt(n) where\n",
    "# c is a constant between 1 and n-1\n",
    "# and 1/n is the variance\n",
    "\n",
    "#a = np.random.uniform(1,(std**2)-1,(1490,k))/std\n",
    "#A = torch.tensor(a, dtype=torch.float32, requires_grad=True)\n",
    "\n",
    "#f = np.random.uniform(1,(std**2)-1,(k,1186))/std\n",
    "#F = torch.tensor(f, dtype=torch.float32, requires_grad=True)\n",
    "\n",
    "# Store losses\n",
    "losses_train = []\n",
    "losses_val = []\n",
    "\n",
    "grad_descent(A, F, lr, epoch, S_train, R_train,alpha_1,alpha_2)"
   ]
  },
  {
   "cell_type": "code",
   "execution_count": 386,
   "metadata": {},
   "outputs": [
    {
     "data": {
      "image/png": "[encoded data removed]",
      "text/plain": [
       "<Figure size 864x288 with 2 Axes>"
      ]
     },
     "metadata": {
      "needs_background": "light"
     },
     "output_type": "display_data"
    }
   ],
   "source": [
    "fig = plt.figure(figsize=(12, 4))\n",
    "# Plot the parameter approximations\n",
    "\n",
    "# Plot the losses_train\n",
    "ax1 = fig.add_subplot(1, 2, 1)\n",
    "ax1.plot(losses_train)\n",
    "plt.xlabel(\"iterations\")\n",
    "plt.ylabel(\"Loss values\")\n",
    "plt.title(f\"Final loss value Train {epoch} after interations: {losses_train[-1]:.6f}\")\n",
    "\n",
    "# Plot the losses_val\n",
    "ax2 = fig.add_subplot(1, 2, 2)\n",
    "ax2.plot(losses_val)\n",
    "plt.xlabel(\"iterations\")\n",
    "plt.ylabel(\"Loss values\")\n",
    "plt.title(f\"Final loss value Validation {epoch} after interations: {losses_val[-1]:.6f}\")\n",
    "fig.show()\n",
    "\n",
    "# Plot the losses_val\n",
    "ax2 = fig.add_subplot(1, 2, 2)\n",
    "ax2.plot(losses_val)\n",
    "plt.xlabel(\"iterations\")\n",
    "plt.ylabel(\"Loss values\")\n",
    "plt.title(f\"Final loss value Validation {epoch} after interations: {losses_val[-1]:.6f}\")\n",
    "fig.show()"
   ]
  },
  {
   "cell_type": "code",
   "execution_count": null,
   "metadata": {},
   "outputs": [],
   "source": [
    "#std = torch.std(torch.matmul(A,F)).item()**-1"
   ]
  },
  {
   "cell_type": "markdown",
   "metadata": {},
   "source": [
    "##  <a name=\"8\">8 Overfitting</a> \n",
    "(<a href=\"#0\">Go to top</a>)\n",
    "\n",
    "If all goes well over the training period, the training and validation losses are both decreasing over the entire run (or do they?!), and probably finally end up somewhere lower than the baseline values, so there is an improvement in recommendation quality over the baseline model! However, let's examine at little bit closer the training and validation losses, to make sure they are indeed both decreasing over the entire run as expected. \n",
    "\n",
    "\n",
    "### Project Question 8\n",
    "> Plot the training and validation losses from the previous question, but now only do so for steps $300$ through $500$.  There were many large gains in the early steps of gradient descent that make the overfitting harder to see which should now become clearer.  A key technique is called *early stopping*, where you simply stop training your model at the point at which the validation losses were best.  What was the minimum value of the validation loss you obtained?  \n",
    "\n",
    "This question is a preview of one of the most pervasive issues you encounter in machine learning: __the phenomena of overfitting__. This is the issue of a model memorizing random fluctuations rather than true patterns. There is a hallmark of overfitting, which is that the models ability to predict test data becomes *worse* after continued training, even though the models ability to explain training data becomes better.  The idea is that in the beginning, it is learning real and generalizable patterns, however as it keeps learning for longer it starts learning things which it *thinks* are real patterns, but are instead just random fluctuations.\n"
   ]
  },
  {
   "cell_type": "code",
   "execution_count": 141,
   "metadata": {},
   "outputs": [],
   "source": [
    "from collections import defaultdict"
   ]
  },
  {
   "cell_type": "code",
   "execution_count": 382,
   "metadata": {
    "scrolled": false
   },
   "outputs": [
    {
     "name": "stdout",
     "output_type": "stream",
     "text": [
      "Hyperparameters tuning with k=1, epoch=200, lr=15, alpha_1=0, alpha_2=0 - MSE 0.4360033273696899\n",
      "Hyperparameters tuning with k=1, epoch=200, lr=20, alpha_1=0, alpha_2=0 - MSE 0.43598064780235296\n",
      "Hyperparameters tuning with k=1, epoch=200, lr=25, alpha_1=0, alpha_2=0 - MSE 0.4359787702560425\n",
      "Hyperparameters tuning with k=1, epoch=200, lr=30, alpha_1=0, alpha_2=0 - MSE 0.4359785914421081\n",
      "Hyperparameters tuning with k=1, epoch=200, lr=35, alpha_1=0, alpha_2=0 - MSE 0.4359785914421081\n",
      "Hyperparameters tuning with k=1, epoch=250, lr=15, alpha_1=0, alpha_2=0 - MSE 0.4359823167324066\n",
      "Hyperparameters tuning with k=1, epoch=250, lr=20, alpha_1=0, alpha_2=0 - MSE 0.4359787702560425\n",
      "Hyperparameters tuning with k=1, epoch=250, lr=25, alpha_1=0, alpha_2=0 - MSE 0.4359785914421081\n",
      "Hyperparameters tuning with k=1, epoch=250, lr=30, alpha_1=0, alpha_2=0 - MSE 0.4359785914421081\n",
      "Hyperparameters tuning with k=1, epoch=250, lr=35, alpha_1=0, alpha_2=0 - MSE 0.4359785914421081\n",
      "Hyperparameters tuning with k=1, epoch=300, lr=15, alpha_1=0, alpha_2=0 - MSE 0.43597924709320063\n",
      "Hyperparameters tuning with k=1, epoch=300, lr=20, alpha_1=0, alpha_2=0 - MSE 0.4359785914421081\n",
      "Hyperparameters tuning with k=1, epoch=300, lr=25, alpha_1=0, alpha_2=0 - MSE 0.4359785914421081\n",
      "Hyperparameters tuning with k=1, epoch=300, lr=30, alpha_1=0, alpha_2=0 - MSE 0.4359785914421081\n",
      "Hyperparameters tuning with k=1, epoch=300, lr=35, alpha_1=0, alpha_2=0 - MSE 0.4359785914421081\n",
      "Hyperparameters tuning with k=1, epoch=350, lr=15, alpha_1=0, alpha_2=0 - MSE 0.4359786808490753\n",
      "Hyperparameters tuning with k=1, epoch=350, lr=20, alpha_1=0, alpha_2=0 - MSE 0.4359785914421081\n",
      "Hyperparameters tuning with k=1, epoch=350, lr=25, alpha_1=0, alpha_2=0 - MSE 0.4359785914421081\n",
      "Hyperparameters tuning with k=1, epoch=350, lr=30, alpha_1=0, alpha_2=0 - MSE 0.4359785914421081\n",
      "Hyperparameters tuning with k=1, epoch=350, lr=35, alpha_1=0, alpha_2=0 - MSE 0.4359785914421081\n"
     ]
    }
   ],
   "source": [
    "### Implement Code for Project Question 8 here ###\n",
    "##################################################\n",
    "\n",
    "# Hyperparameters tuning\n",
    "\n",
    "# Transform matrices to correct format\n",
    "S_train = torch.tensor(S_train, dtype=torch.float32)\n",
    "R_train = torch.tensor(R_train, dtype=torch.float32)\n",
    "S_val = torch.tensor(S_val, dtype=torch.float32)\n",
    "R_val = torch.tensor(R_val, dtype=torch.float32)\n",
    "\n",
    "# Generate normally distributed latent features\n",
    "torch.manual_seed(1)\n",
    "A = torch.normal(0, 1, size=(1490,k), requires_grad=True)\n",
    "F = torch.normal(0, 1, size=(k,1186), requires_grad=True)\n",
    "\n",
    "tuning = defaultdict(list)\n",
    "\n",
    "for k in [1]:\n",
    "    for epoch in [200]#np.arange(200,400,50):\n",
    "        for lr in [30]:#np.arange(15,40,5):\n",
    "            for alpha_1 in [0]:\n",
    "                for alpha_2 in [0]:\n",
    "                    \n",
    "                    # Store losses\n",
    "                    losses_train = []\n",
    "                    losses_val = []\n",
    "\n",
    "                    grad_descent(A, F, lr, epoch, S_train, R_train, alpha_1,alpha_2)\n",
    "\n",
    "                    RMSE = math.sqrt(losses_val[-1])\n",
    "\n",
    "                    tuning[(k,epoch,lr,alpha_1,alpha_2)].append(RMSE)\n",
    "\n",
    "                    print(f'Hyperparameters tuning with k={k}, epoch={epoch}, lr={lr}, alpha_1={alpha_1}, alpha_2={alpha_2} - MSE {RMSE**2}')"
   ]
  },
  {
   "cell_type": "code",
   "execution_count": 383,
   "metadata": {
    "scrolled": true
   },
   "outputs": [
    {
     "data": {
      "text/plain": [
       "{(1, 200, 30, 0, 0): (0.4359785914421081, 0.6602867494067317),\n",
       " (1, 200, 35, 0, 0): (0.4359785914421081, 0.6602867494067317),\n",
       " (1, 250, 25, 0, 0): (0.4359785914421081, 0.6602867494067317),\n",
       " (1, 250, 30, 0, 0): (0.4359785914421081, 0.6602867494067317),\n",
       " (1, 250, 35, 0, 0): (0.4359785914421081, 0.6602867494067317)}"
      ]
     },
     "execution_count": 383,
     "metadata": {},
     "output_type": "execute_result"
    }
   ],
   "source": [
    "{k:(v[0]**2,v[0]) for k,v in sorted(tuning.items(), key=lambda item: item[1])[:5]}"
   ]
  },
  {
   "cell_type": "markdown",
   "metadata": {},
   "source": [
    "0.4359696209430694\n",
    "0.4359667897224426\n",
    "0.4359658360481263\n",
    "0.4359650015830993\n",
    "0.4359539449214935"
   ]
  },
  {
   "cell_type": "markdown",
   "metadata": {},
   "source": [
    "##  <a name=\"9\">9 Recommendations</a> \n",
    "(<a href=\"#0\">Go to top</a>)\n",
    "\n",
    "Let's finally have a look at our recommender system. That is, the last $P$ matrix from the gradient descent algorithm! Print it and have a look at its elements. All those empty entries of the $S$ matrix are now filled in with what are in fact recommendations for those users that have not yet rated those ASINs.\n",
    "\n",
    "This means that now that we have a trained recommender model, we can find all user-ASIN pairs in the training set where the user has not rated an ASIN, and make a recommendation based on the entries of the prediction matrix for that particular user-ASIN pair. \n",
    "\n",
    "\n",
    "### Project Question 9\n",
    "\n",
    "> Machine learning problems are often solved by carefully tuning and/or adding in more and more ingredients which slowly improve the model performance little by little. Improve model performance, then use the following code to extract the test predictions from the prediction matrix. Print out a sample of the test predictions, and have a look at the values. If all goes well, these should be values roughly between 1 and 5."
   ]
  },
  {
   "cell_type": "code",
   "execution_count": null,
   "metadata": {},
   "outputs": [],
   "source": [
    "torch.matmul(A,F).detach().numpy()"
   ]
  },
  {
   "cell_type": "code",
   "execution_count": 351,
   "metadata": {},
   "outputs": [
    {
     "name": "stdout",
     "output_type": "stream",
     "text": [
      "[4.809404, 4.2569346, 5.265067, 4.8753033, 4.947186, 4.540819, 4.8087554, 5.200073, 4.69124, 4.2500973]\n"
     ]
    }
   ],
   "source": [
    "### Implement Code for Project Question 9 here ###\n",
    "###################################################\n",
    "\n",
    "# This is just a sample predictions of all ones\n",
    "# REPLACE WITH YOUR P matrix\n",
    "#P = np.ones((numUser, numASIN))\n",
    "P=torch.matmul(A,F).detach().numpy()\n",
    "\n",
    "# Get predictions for the test_features set from the prediction matrix P\n",
    "test_predictions = []\n",
    "for index, row in test_features.iterrows():\n",
    "    userIdx = uniqueUsers.index(row[\"User\"])\n",
    "    ASINIdx = uniqueASINs.index(row[\"ASIN\"])\n",
    "    test_predictions.append(P[userIdx, ASINIdx]) # !use .detach().numpy() when working with pytorch Tensors/autograd!\n",
    "\n",
    "# This is just a sample test predictions of all ones\n",
    "# REPLACE WITH YOUR TEST PREDICTIONS\n",
    "print(test_predictions[0:10])"
   ]
  },
  {
   "cell_type": "code",
   "execution_count": 388,
   "metadata": {},
   "outputs": [
    {
     "data": {
      "image/png": "[encoded data removed]",
      "text/plain": [
       "<Figure size 432x288 with 1 Axes>"
      ]
     },
     "metadata": {
      "needs_background": "light"
     },
     "output_type": "display_data"
    },
    {
     "name": "stdout",
     "output_type": "stream",
     "text": [
      "[[3.883145  3.9555507 3.9394972 ... 3.860307  3.887623  4.0510316]\n",
      " [4.4343762 4.5170603 4.4987283 ... 4.408296  4.43949   4.6260953]\n",
      " [4.904598  4.9960504 4.975774  ... 4.875753  4.9102545 5.1166472]\n",
      " ...\n",
      " [3.5021098 3.5674105 3.5529323 ... 3.4815125 3.506148  3.6535223]\n",
      " [4.992091  5.0851746 5.0645366 ... 4.962731  4.997848  5.2079225]\n",
      " [4.313089  4.3935113 4.3756804 ... 4.287722  4.3180623 4.4995637]]\n"
     ]
    }
   ],
   "source": [
    "plt.hist(P)\n",
    "plt.show()\n",
    "print(P)"
   ]
  },
  {
   "cell_type": "code",
   "execution_count": 395,
   "metadata": {},
   "outputs": [
    {
     "name": "stdout",
     "output_type": "stream",
     "text": [
      "Our predictions distribution ressemble more to the original training distribution\n"
     ]
    },
    {
     "data": {
      "image/png": "[encoded data removed]",
      "text/plain": [
       "<Figure size 432x288 with 1 Axes>"
      ]
     },
     "metadata": {
      "needs_background": "light"
     },
     "output_type": "display_data"
    },
    {
     "name": "stdout",
     "output_type": "stream",
     "text": [
      "Training distribution\n"
     ]
    },
    {
     "data": {
      "image/png": "[encoded data removed]",
      "text/plain": [
       "<Figure size 360x360 with 1 Axes>"
      ]
     },
     "metadata": {
      "needs_background": "light"
     },
     "output_type": "display_data"
    }
   ],
   "source": [
    "# Ratings are bounded between 1 and 5. Hence, set all values out of bound to the nearest bound.\n",
    "P[P>5]=5\n",
    "P[P<1]=1\n",
    "\n",
    "print('Our predictions distribution ressemble more to the original training distribution')\n",
    "plt.hist(P)\n",
    "plt.show()\n",
    "\n",
    "print('Training distribution')\n",
    "x = train['Rating']\n",
    "\n",
    "plt.figure(figsize=(5,5))\n",
    "\n",
    "plt.hist(x)\n",
    "plt.ylabel('Distribution')\n",
    "plt.xlabel('Rating')\n",
    "plt.title('Rating distribution')\n",
    "plt.show()"
   ]
  },
  {
   "cell_type": "markdown",
   "metadata": {},
   "source": [
    "##  <a name=\"10\">10 Submit to Leaderboard</a> \n",
    "(<a href=\"#0\">Go to top</a>)\n",
    "\n",
    "Although we can repeat Question 9 on the train and validation dataset, extracting the train and validation predictions from the prediction matrix and compare them against the real train and validaiton ratings (that we can extract from the ```train``` the ```val``` datasets), we would not be able to know how well the recommender system works on the ```test_features``` dataset unless we submit to the Leaderboard! \n",
    "\n",
    "\n",
    "### Project Question 10\n",
    "\n",
    "> Use the following code to write the test predictions to a CSV file (in the format expected by the Leaderboard). Download locally the CSV file from the SageMaker instance folder, and upload it to [https://leaderboard.corp.amazon.com/tasks/665/submit](https://leaderboard.corp.amazon.com/tasks/665/submit). Good luck!\n"
   ]
  },
  {
   "cell_type": "code",
   "execution_count": 391,
   "metadata": {},
   "outputs": [
    {
     "name": "stdout",
     "output_type": "stream",
     "text": [
      "      ID    Rating\n",
      "0  84634  4.809404\n",
      "1  55852  4.256935\n",
      "2  28875  5.265067\n",
      "3  94134  4.875303\n",
      "4  31501  4.947186\n"
     ]
    }
   ],
   "source": [
    "### Implement Code for Project Question 10 here ###\n",
    "###################################################\n",
    "\n",
    "import pandas as pd\n",
    "\n",
    "# Get test predictions in the format expected by the Leaderboard\n",
    "MATH_Final_Project_LB_submission = pd.DataFrame(columns=[\"ID\", \"Rating\"])\n",
    "MATH_Final_Project_LB_submission[\"ID\"] = test_features[\"ID\"]\n",
    "MATH_Final_Project_LB_submission[\"Rating\"] = test_predictions\n",
    "\n",
    "MATH_Final_Project_LB_submission.to_csv(\n",
    "    \"MATH_Final_Project_LB_submission.csv\", index=False\n",
    ")\n",
    "\n",
    "# This is just a sample test predictions of all ones\n",
    "# REPLACE WITH YOUR TEST PREDICTIONS\n",
    "print(MATH_Final_Project_LB_submission.head())"
   ]
  },
  {
   "cell_type": "markdown",
   "metadata": {},
   "source": [
    "##  <a name=\"100\">Final Comments</a> \n",
    "(<a href=\"#0\">Go to top</a>)\n",
    "\n",
    "Once you get your final metric and compare it to the original rating, you might find yourself disappointed that it wasn't too much better.  I will say that the $14\\%$ improvement you should have seen is actually quite large.  This is the way of things in most ML projects. Something very near this algorithm is what gave Netflix its early lead in the movie recommendation market in the early 2000s.  They were only able to decrease the error by another $0.1$ stars after offering a [million dollar prize](https://en.wikipedia.org/wiki/Netflix_Prize) which took $3$ years of joint academic and industry effort to claim!  \n",
    "\n",
    "You will often times be able to implement a trivial solution in minutes to do an ok job, work for weeks to improve on it by $10\\%$, and then years to get another $10\\%$.  Reading the [writeup](http://www.netflixprize.com/assets/ProgressPrize2008_BellKor.pdf) by the winning team will let you get a feeling of how subtle these gains often are!"
   ]
  },
  {
   "cell_type": "markdown",
   "metadata": {},
   "source": [
    "## End of Notebook"
   ]
  }
 ],
 "metadata": {
  "kernelspec": {
   "display_name": "Python 3",
   "language": "python",
   "name": "python3"
  },
  "language_info": {
   "codemirror_mode": {
    "name": "ipython",
    "version": 3
   },
   "file_extension": ".py",
   "mimetype": "text/x-python",
   "name": "python",
   "nbconvert_exporter": "python",
   "pygments_lexer": "ipython3",
   "version": "3.8.5"
  }
 },
 "nbformat": 4,
 "nbformat_minor": 2
}
